{
  "cells": [
    {
      "cell_type": "markdown",
      "metadata": {
        "id": "lIU38v4FYCoO"
      },
      "source": [
        "# Fine Tuning Bert for second dataset"
      ]
    },
    {
      "cell_type": "markdown",
      "metadata": {
        "id": "RSMG8qC-YCoU"
      },
      "source": [
        "<a id='section01'></a>\n",
        "### Импорт библиотек"
      ]
    },
    {
      "cell_type": "code",
      "execution_count": null,
      "metadata": {
        "colab": {
          "base_uri": "https://localhost:8080/",
          "height": 105
        },
        "collapsed": true,
        "execution": {
          "iopub.execute_input": "2023-05-15T21:01:44.200189Z",
          "iopub.status.busy": "2023-05-15T21:01:44.199879Z",
          "iopub.status.idle": "2023-05-15T21:02:47.491200Z",
          "shell.execute_reply": "2023-05-15T21:02:47.489935Z",
          "shell.execute_reply.started": "2023-05-15T21:01:44.200162Z"
        },
        "id": "WD_vnyLXZQzD",
        "jupyter": {
          "outputs_hidden": true
        },
        "outputId": "b9664704-6c75-4bce-ee89-49746c8a9c89",
        "trusted": true
      },
      "outputs": [],
      "source": [
        "!pip install transformers\n",
        "!pip install sklearn\n",
        "!pip install torch\n",
        "!pip install comet-ml\n",
        "!pip install numpy\n",
        "!pip install pandas"
      ]
    },
    {
      "cell_type": "code",
      "execution_count": null,
      "metadata": {
        "execution": {
          "iopub.execute_input": "2023-05-15T21:02:47.494246Z",
          "iopub.status.busy": "2023-05-15T21:02:47.493807Z",
          "iopub.status.idle": "2023-05-15T21:03:03.061733Z",
          "shell.execute_reply": "2023-05-15T21:03:03.060696Z",
          "shell.execute_reply.started": "2023-05-15T21:02:47.494206Z"
        },
        "id": "pzM1_ykHaFur",
        "outputId": "edcc7548-f305-4292-b751-72d43c7201fe",
        "trusted": true
      },
      "outputs": [
        {
          "name": "stderr",
          "output_type": "stream",
          "text": [
            "/opt/conda/lib/python3.10/site-packages/scipy/__init__.py:146: UserWarning: A NumPy version >=1.16.5 and <1.23.0 is required for this version of SciPy (detected version 1.23.5\n",
            "  warnings.warn(f\"A NumPy version >={np_minversion} and <{np_maxversion}\"\n"
          ]
        }
      ],
      "source": [
        "import sklearn\n",
        "import numpy as np\n",
        "import pandas as pd\n",
        "import seaborn as sns\n",
        "import matplotlib.pyplot as plt\n",
        "\n",
        "import comet_ml\n",
        "from comet_ml import Experiment\n",
        "\n",
        "import transformers\n",
        "from transformers import BertTokenizer, BertModel\n",
        "from transformers import AdamW, get_linear_schedule_with_warmup\n",
        "\n",
        "import torch\n",
        "import torch.nn as nn\n",
        "from torch import cuda\n",
        "from torch.utils.data import Dataset, DataLoader\n",
        "\n",
        "from sklearn.metrics import f1_score\n",
        "from sklearn.metrics import accuracy_score\n",
        "from sklearn.metrics import confusion_matrix\n",
        "from sklearn.metrics import balanced_accuracy_score\n",
        "\n",
        "import warnings\n",
        "warnings.filterwarnings('ignore')"
      ]
    },
    {
      "cell_type": "markdown",
      "metadata": {
        "id": "zHHazRStjYPF"
      },
      "source": [
        "<a id='section02'></a>\n",
        "### Инициализация функций"
      ]
    },
    {
      "cell_type": "code",
      "execution_count": null,
      "metadata": {
        "execution": {
          "iopub.execute_input": "2023-05-15T21:03:03.063552Z",
          "iopub.status.busy": "2023-05-15T21:03:03.063157Z",
          "iopub.status.idle": "2023-05-15T21:03:03.071616Z",
          "shell.execute_reply": "2023-05-15T21:03:03.069671Z",
          "shell.execute_reply.started": "2023-05-15T21:03:03.063501Z"
        },
        "id": "3Btgnd2AjYPF",
        "trusted": true
      },
      "outputs": [],
      "source": [
        "def set_experiment(api_key, project_name, workspace):\n",
        "    experiment = Experiment(\n",
        "    api_key=api_key,\n",
        "    project_name=project_name,\n",
        "    workspace=workspace\n",
        ")\n",
        "    \n",
        "    return experiment"
      ]
    },
    {
      "cell_type": "code",
      "execution_count": null,
      "metadata": {
        "execution": {
          "iopub.execute_input": "2023-05-15T21:03:03.075276Z",
          "iopub.status.busy": "2023-05-15T21:03:03.074728Z",
          "iopub.status.idle": "2023-05-15T21:03:06.762972Z",
          "shell.execute_reply": "2023-05-15T21:03:06.762035Z",
          "shell.execute_reply.started": "2023-05-15T21:03:03.075241Z"
        },
        "id": "DJ6q0I1tjYPG",
        "outputId": "1ae27fd5-3e89-488c-bea0-9dad18bfe14d",
        "trusted": true
      },
      "outputs": [],
      "source": [
        "api_key = ххх\n",
        "project_name = ххх\n",
        "workspace = ххх\n",
        "\n",
        "experiment = set_experiment(api_key, project_name, workspace)"
      ]
    },
    {
      "cell_type": "code",
      "execution_count": null,
      "metadata": {
        "id": "hYGFbpr-jvqQ"
      },
      "outputs": [],
      "source": [
        "def cm_plot(y_test, y_pred, y_type):\n",
        "\n",
        "    cm = confusion_matrix(y_test, y_pred)\n",
        "    # Normalise\n",
        "    cmn = cm.astype('float') / cm.sum(axis=1)[:, np.newaxis]\n",
        "    fig, ax = plt.subplots(figsize=(5,5))\n",
        "    sns.heatmap(cmn, cmap='Blues', annot=True, fmt='.2f')\n",
        "    sns.set(font_scale=1.3)\n",
        "    plt.title(f'Confusion Matrix of {y_type}')\n",
        "\n",
        "    return plt.show()"
      ]
    },
    {
      "cell_type": "code",
      "execution_count": null,
      "metadata": {
        "execution": {
          "iopub.execute_input": "2023-05-15T21:03:06.766023Z",
          "iopub.status.busy": "2023-05-15T21:03:06.765651Z",
          "iopub.status.idle": "2023-05-15T21:03:06.786465Z",
          "shell.execute_reply": "2023-05-15T21:03:06.785477Z",
          "shell.execute_reply.started": "2023-05-15T21:03:06.765982Z"
        },
        "id": "0GGmWkGHjYPG",
        "trusted": true
      },
      "outputs": [],
      "source": [
        "def statistic(y_pred_test, y_test, y_pred_train, y_train,\n",
        "             t1, t2):\n",
        "    score_table = pd.DataFrame(columns=(t1, t2))\n",
        "\n",
        "    b_train = balanced_accuracy_score(y_train, y_pred_train)\n",
        "    b_test = balanced_accuracy_score(y_test, y_pred_test)\n",
        "    score_table.loc['balanced_accuracy_score', :] = (b_train, b_test)\n",
        "\n",
        "    a_train = accuracy_score(y_train, y_pred_train)\n",
        "    a_test = accuracy_score(y_test, y_pred_test)\n",
        "    score_table.loc['accuracy_score', :] = (a_train, a_test)\n",
        "\n",
        "    f1_train = f1_score(y_train, y_pred_train, average='weighted')\n",
        "    f1_test = f1_score(y_test, y_pred_test, average='weighted')\n",
        "    score_table.loc['f1 weighted', :] = (f1_train, f1_test)\n",
        "\n",
        "    f1_train = f1_score(y_train, y_pred_train, average='micro')\n",
        "    f1_test = f1_score(y_test, y_pred_test, average='micro')\n",
        "    score_table.loc['f1 micro', :] = (f1_train, f1_test)\n",
        "\n",
        "    f1_train = f1_score(y_train, y_pred_train, average='macro')\n",
        "    f1_test = f1_score(y_test, y_pred_test, average='macro')\n",
        "    score_table.loc['f1 macro', :] = (f1_train, f1_test)\n",
        "\n",
        "    return score_table"
      ]
    },
    {
      "cell_type": "code",
      "execution_count": null,
      "metadata": {
        "execution": {
          "iopub.execute_input": "2023-05-15T21:03:06.794404Z",
          "iopub.status.busy": "2023-05-15T21:03:06.791391Z",
          "iopub.status.idle": "2023-05-15T21:03:06.803477Z",
          "shell.execute_reply": "2023-05-15T21:03:06.802289Z",
          "shell.execute_reply.started": "2023-05-15T21:03:06.794368Z"
        },
        "id": "iggLKjNHjYPH",
        "trusted": true
      },
      "outputs": [],
      "source": [
        "def log_parameters(experiment, hyper_params):\n",
        "    experiment.log_parameter(\"train_batch_size\", hyper_params['batch_size'])\n",
        "    experiment.log_parameter(\"test_batch_size\", hyper_params['batch_size'])\n",
        "\n",
        "    experiment.log_parameter(\"Learning Rate\", hyper_params['lr'])\n",
        "    experiment.log_parameter(\"general_epochs\", hyper_params['epochs'])\n",
        "    experiment.log_parameter(\"max_len\", hyper_params['max_len'])"
      ]
    },
    {
      "cell_type": "code",
      "execution_count": null,
      "metadata": {
        "execution": {
          "iopub.execute_input": "2023-05-15T21:03:06.811141Z",
          "iopub.status.busy": "2023-05-15T21:03:06.808375Z",
          "iopub.status.idle": "2023-05-15T21:03:06.899314Z",
          "shell.execute_reply": "2023-05-15T21:03:06.898173Z",
          "shell.execute_reply.started": "2023-05-15T21:03:06.811108Z"
        },
        "id": "NLxxwd1scQNv",
        "trusted": true
      },
      "outputs": [],
      "source": [
        "device = 'cuda' if cuda.is_available() else 'cpu'"
      ]
    },
    {
      "cell_type": "code",
      "execution_count": null,
      "metadata": {
        "execution": {
          "iopub.execute_input": "2023-05-15T21:03:06.901319Z",
          "iopub.status.busy": "2023-05-15T21:03:06.900686Z",
          "iopub.status.idle": "2023-05-15T21:03:07.154014Z",
          "shell.execute_reply": "2023-05-15T21:03:07.152850Z",
          "shell.execute_reply.started": "2023-05-15T21:03:06.901285Z"
        },
        "id": "mZ7lTlkyaG7u",
        "trusted": true
      },
      "outputs": [],
      "source": [
        "X_train = pd.read_csv('/kaggle/input/term-paper3/train_second.csv', header=0)\n",
        "X_dev = pd.read_csv('/kaggle/input/term-paper3/dev_second.csv', header=0)\n",
        "X_test = pd.read_csv('/kaggle/input/term-paper3/test_second.csv', header=0)\n",
        "\n",
        "X_rusenti_test = pd.read_csv('/kaggle/input/term-paper3/test_first.csv', header=0)\n",
        "X_rusenti_test.drop(['id'], inplace=True, axis=1)"
      ]
    },
    {
      "cell_type": "code",
      "execution_count": null,
      "metadata": {
        "colab": {
          "base_uri": "https://localhost:8080/",
          "height": 66,
          "referenced_widgets": [
            "4ff1e0e231244d79a4d1ebdc2e7b8235",
            "51d4c2a94e654b83916d011c65248d04",
            "a7354b526df9448d8fd6c4a264c2ac24",
            "1b67b76cd9394e3b8addf6195ca9611a",
            "b9510b24e7e64b9d822d025a9b30757b",
            "84c7d4fb46924b7fa412d188ea7e05da",
            "23b26013d0144f468af29109e37e3a60",
            "b5dd7f6b28d542ea9d3831028c888f44",
            "73ef3cbc63a24abbbc5ab508f70239d1",
            "5d0a4e21c3424286b9197a9f2486d26a",
            "b229285b950c4bc5a6eb942832e99f61"
          ]
        },
        "execution": {
          "iopub.execute_input": "2023-05-15T21:03:07.162674Z",
          "iopub.status.busy": "2023-05-15T21:03:07.159638Z",
          "iopub.status.idle": "2023-05-15T21:03:10.197673Z",
          "shell.execute_reply": "2023-05-15T21:03:10.196595Z",
          "shell.execute_reply.started": "2023-05-15T21:03:07.162633Z"
        },
        "id": "ikfbFlNHgi8T",
        "outputId": "21188d80-cd21-4d66-bdf0-8308af26a0fd",
        "trusted": true
      },
      "outputs": [],
      "source": [
        "tokenizer = BertTokenizer.from_pretrained('bert-base-multilingual-cased')\n",
        "\n",
        "parameters = {\n",
        "    'batch_size': 32,\n",
        "    'lr': 5e-5,\n",
        "    'epochs': 5,\n",
        "    'max_len': 256,\n",
        "}\n",
        "\n",
        "log_parameters(experiment, parameters)"
      ]
    },
    {
      "cell_type": "code",
      "execution_count": null,
      "metadata": {
        "execution": {
          "iopub.execute_input": "2023-05-15T21:03:10.202420Z",
          "iopub.status.busy": "2023-05-15T21:03:10.201717Z",
          "iopub.status.idle": "2023-05-15T21:03:10.218751Z",
          "shell.execute_reply": "2023-05-15T21:03:10.217733Z",
          "shell.execute_reply.started": "2023-05-15T21:03:10.202385Z"
        },
        "id": "oFOylAXqiNYK",
        "trusted": true
      },
      "outputs": [],
      "source": [
        "class CustomDataset(Dataset):\n",
        "\n",
        "    def __init__(self, dataframe, tokenizer, max_len):\n",
        "        self.tokenizer = tokenizer\n",
        "        self.data = dataframe\n",
        "        self.comment_text = dataframe.Text\n",
        "        self.targets = dataframe.Class\n",
        "        self.max_len = max_len\n",
        "\n",
        "    def __len__(self):\n",
        "        return len(self.comment_text)\n",
        "\n",
        "    def __getitem__(self, index):\n",
        "        comment_text = str(self.comment_text[index])\n",
        "        comment_text = \" \".join(comment_text.split())\n",
        "\n",
        "        inputs = self.tokenizer.encode_plus(\n",
        "            comment_text,\n",
        "            None,\n",
        "            add_special_tokens=True,\n",
        "            max_length=self.max_len,\n",
        "            pad_to_max_length=True,\n",
        "            return_token_type_ids=True\n",
        "        )\n",
        "        ids = inputs['input_ids']\n",
        "        mask = inputs['attention_mask']\n",
        "        token_type_ids = inputs[\"token_type_ids\"]\n",
        "\n",
        "\n",
        "        return {\n",
        "            'ids': torch.tensor(ids, dtype=torch.long),\n",
        "            'mask': torch.tensor(mask, dtype=torch.long),\n",
        "            'token_type_ids': torch.tensor(token_type_ids, dtype=torch.long),\n",
        "            'targets': torch.tensor(self.targets[index], dtype=torch.float)\n",
        "        }"
      ]
    },
    {
      "cell_type": "code",
      "execution_count": null,
      "metadata": {
        "colab": {
          "base_uri": "https://localhost:8080/",
          "height": 70
        },
        "execution": {
          "iopub.execute_input": "2023-05-15T21:03:10.221600Z",
          "iopub.status.busy": "2023-05-15T21:03:10.220840Z",
          "iopub.status.idle": "2023-05-15T21:03:10.233752Z",
          "shell.execute_reply": "2023-05-15T21:03:10.232590Z",
          "shell.execute_reply.started": "2023-05-15T21:03:10.221567Z"
        },
        "id": "PkDGqarcPowL",
        "outputId": "e834ea5d-5d00-4bb6-ad52-6f21e744da95",
        "trusted": true
      },
      "outputs": [
        {
          "name": "stdout",
          "output_type": "stream",
          "text": [
            "TRAIN Dataset: (12542, 2)\n",
            "DEV Dataset: (3136, 2)\n",
            "TEST RUSENTI Dataset: (1143, 2)\n",
            "TEST Dataset: (6720, 2)\n"
          ]
        }
      ],
      "source": [
        "print(\"TRAIN Dataset: {}\".format(X_train.shape))\n",
        "print(\"DEV Dataset: {}\".format(X_dev.shape))\n",
        "print(\"TEST RUSENTI Dataset: {}\".format(X_rusenti_test.shape))\n",
        "print(\"TEST Dataset: {}\".format(X_test.shape))\n",
        "\n",
        "training_set = CustomDataset(X_train, tokenizer, parameters['max_len'])\n",
        "dev_set = CustomDataset(X_dev, tokenizer, parameters['max_len'])\n",
        "testing_set = CustomDataset(X_test, tokenizer, parameters['max_len'])\n",
        "rusenti_testing_set = CustomDataset(X_rusenti_test, tokenizer, parameters['max_len'])"
      ]
    },
    {
      "cell_type": "code",
      "execution_count": null,
      "metadata": {
        "execution": {
          "iopub.execute_input": "2023-05-15T21:03:10.238943Z",
          "iopub.status.busy": "2023-05-15T21:03:10.238175Z",
          "iopub.status.idle": "2023-05-15T21:03:10.246531Z",
          "shell.execute_reply": "2023-05-15T21:03:10.245441Z",
          "shell.execute_reply.started": "2023-05-15T21:03:10.238910Z"
        },
        "id": "vLpilV73QrXJ",
        "trusted": true
      },
      "outputs": [],
      "source": [
        "train_params = {'batch_size': parameters['batch_size'],\n",
        "                'shuffle': True,\n",
        "                'num_workers': 0\n",
        "                }\n",
        "\n",
        "test_params = {'batch_size': parameters['batch_size'],\n",
        "                'shuffle': False,\n",
        "                'num_workers': 0\n",
        "                }\n",
        "\n",
        "training_loader = DataLoader(training_set, **train_params)\n",
        "dev_loader = DataLoader(dev_set, **test_params)\n",
        "testing_loader = DataLoader(testing_set, **test_params)\n",
        "testing_rusenti_loader = DataLoader(rusenti_testing_set, **test_params)"
      ]
    },
    {
      "cell_type": "code",
      "execution_count": null,
      "metadata": {
        "execution": {
          "iopub.execute_input": "2023-05-15T21:03:10.249089Z",
          "iopub.status.busy": "2023-05-15T21:03:10.248334Z",
          "iopub.status.idle": "2023-05-15T21:03:10.261427Z",
          "shell.execute_reply": "2023-05-15T21:03:10.260347Z",
          "shell.execute_reply.started": "2023-05-15T21:03:10.249056Z"
        },
        "id": "PPim6Pt-jYPJ",
        "trusted": true
      },
      "outputs": [],
      "source": [
        "class BertClassifier(nn.Module):\n",
        "    \"\"\"Bert Model for Classification Tasks.\n",
        "    \"\"\"\n",
        "    def __init__(self, freeze_bert=False):\n",
        "        \n",
        "        super(BertClassifier, self).__init__()\n",
        "        D_in, H, D_out = 768, 50, 2\n",
        "\n",
        "        self.bert = BertModel.from_pretrained('bert-base-multilingual-cased')\n",
        "\n",
        "        self.classifier = nn.Sequential(\n",
        "            nn.Linear(D_in, H),\n",
        "            nn.ReLU(),\n",
        "            nn.Dropout(0.5),\n",
        "            nn.Linear(H, D_out)\n",
        "        )\n",
        "\n",
        "        # Freeze the BERT model\n",
        "        if freeze_bert:\n",
        "            for param in self.bert.parameters():\n",
        "                param.requires_grad = False\n",
        "        \n",
        "    def forward(self, input_ids, attention_mask, token_type_ids):\n",
        "        \n",
        "        outputs = self.bert(input_ids=input_ids,\n",
        "                            attention_mask=attention_mask, token_type_ids=token_type_ids)\n",
        "        \n",
        "        pooler_output = outputs.pooler_output\n",
        "\n",
        "        logits = self.classifier(pooler_output)\n",
        "\n",
        "        return logits"
      ]
    },
    {
      "cell_type": "code",
      "execution_count": null,
      "metadata": {
        "colab": {
          "referenced_widgets": [
            "9b427594426d465aa25bef6434c11149"
          ]
        },
        "execution": {
          "iopub.execute_input": "2023-05-15T21:03:10.264116Z",
          "iopub.status.busy": "2023-05-15T21:03:10.263338Z",
          "iopub.status.idle": "2023-05-15T21:03:26.382489Z",
          "shell.execute_reply": "2023-05-15T21:03:26.381387Z",
          "shell.execute_reply.started": "2023-05-15T21:03:10.264083Z"
        },
        "id": "WzD8phBWjYPK",
        "outputId": "01301476-b3bc-41dc-de01-28b0ce65ea96",
        "trusted": true
      },
      "outputs": [],
      "source": [
        "bert_classifier = BertClassifier(freeze_bert=False)\n",
        "bert_classifier.to(device)\n",
        "\n",
        "experiment.set_model_graph(bert_classifier, True)\n",
        "\n",
        "optimizer = AdamW(bert_classifier.parameters(),\n",
        "                      lr=parameters['lr'],    # Default learning rate\n",
        "                      eps=1e-8    # Default epsilon value\n",
        "                      )\n",
        "\n",
        "total_steps = len(training_loader) * parameters['epochs']\n",
        "\n",
        "scheduler = get_linear_schedule_with_warmup(optimizer,\n",
        "                                                num_warmup_steps=0, # Default value\n",
        "                                                num_training_steps=total_steps)"
      ]
    },
    {
      "cell_type": "code",
      "execution_count": null,
      "metadata": {
        "execution": {
          "iopub.execute_input": "2023-05-15T21:03:26.384162Z",
          "iopub.status.busy": "2023-05-15T21:03:26.383814Z",
          "iopub.status.idle": "2023-05-15T21:03:26.461557Z",
          "shell.execute_reply": "2023-05-15T21:03:26.460521Z",
          "shell.execute_reply.started": "2023-05-15T21:03:26.384130Z"
        },
        "id": "0mZM0EtqjYPK",
        "trusted": true
      },
      "outputs": [],
      "source": [
        "import time\n",
        "from copy import deepcopy \n",
        "\n",
        "loss_fn = nn.CrossEntropyLoss()\n",
        "global_balanced_acc = 0\n",
        "best_model_params = deepcopy(bert_classifier.state_dict())\n",
        "\n",
        "step = 0\n",
        "\n",
        "def train(model, train_dataloader, val_dataloader=None, epochs=4, evaluation=False):\n",
        "    \"\"\"Train the BertClassifier model.\n",
        "    \"\"\"\n",
        "    # Start training loop\n",
        "    print(\"Start training...\\n\")\n",
        "    for epoch_i in range(epochs):\n",
        "        # =======================================\n",
        "        #               Training\n",
        "        # =======================================\n",
        "        # Print the header of the result table\n",
        "        print(f\"{'Epoch':^7} | {'Batch':^7} | {'Train Loss':^12} | {'Val Loss':^10} | {'Val Acc':^9} | {'Elapsed':^9}\")\n",
        "        print(\"-\"*70)\n",
        "\n",
        "        # Measure the elapsed time of each epoch\n",
        "        t0_epoch, t0_batch = time.time(), time.time()\n",
        "\n",
        "        # Reset tracking variables at the beginning of each epoch\n",
        "        total_loss, batch_loss, batch_counts = 0, 0, 0\n",
        "\n",
        "        # Put the model into the training mode\n",
        "        model.train()\n",
        "\n",
        "        # For each batch of training data...\n",
        "        for step, data in enumerate(train_dataloader):\n",
        "            batch_counts +=1\n",
        "            # Load batch to GPU\n",
        "            ids = data['ids'].to(device, dtype = torch.long)\n",
        "            mask = data['mask'].to(device, dtype = torch.long)\n",
        "            token_type_ids = data['token_type_ids'].to(device, dtype = torch.long)\n",
        "            b_labels = data['targets'].to(device, dtype = torch.long)\n",
        "        \n",
        "            # Zero out any previously calculated gradients\n",
        "            model.zero_grad()\n",
        "\n",
        "            # Perform a forward pass. This will return logits.\n",
        "            logits = model(ids, mask, token_type_ids)\n",
        "\n",
        "            # Compute loss and accumulate the loss values\n",
        "            loss = loss_fn(logits, b_labels)\n",
        "            batch_loss += loss.item()\n",
        "            total_loss += loss.item()\n",
        "\n",
        "            # Perform a backward pass to calculate gradients\n",
        "            loss.backward()\n",
        "\n",
        "            # Clip the norm of the gradients to 1.0 to prevent \"exploding gradients\"\n",
        "            torch.nn.utils.clip_grad_norm_(model.parameters(), 1.0)\n",
        "\n",
        "            # Update parameters and the learning rate\n",
        "            optimizer.step()\n",
        "            scheduler.step()\n",
        "\n",
        "            # Print the loss values and time elapsed for every 20 batches\n",
        "            if (step % 100 == 0 and step != 0) or (step == len(train_dataloader) - 1):\n",
        "                # Calculate time elapsed for 20 batches\n",
        "                time_elapsed = time.time() - t0_batch\n",
        "\n",
        "                # Print training results\n",
        "                print(f\"{epoch_i + 1:^7} | {step:^7} | {batch_loss / batch_counts:^12.6f} | {'-':^10} | {'-':^9} | {time_elapsed:^9.2f}\")\n",
        "                \n",
        "                experiment.log_metric('loss_train_steps', batch_loss / batch_counts)\n",
        "                # Reset batch tracking variables\n",
        "                batch_loss, batch_counts = 0, 0\n",
        "                t0_batch = time.time()\n",
        "\n",
        "        # Calculate the average loss over the entire training data\n",
        "        avg_train_loss = total_loss / len(train_dataloader)\n",
        "        experiment.log_metric('loss_train', avg_train_loss)\n",
        "\n",
        "        print(\"-\"*70)\n",
        "        # =======================================\n",
        "        #               Evaluation\n",
        "        # =======================================\n",
        "        if evaluation == True:\n",
        "            # After the completion of each training epoch, measure the model's performance\n",
        "            # on our validation set.\n",
        "            val_loss, val_accuracy = evaluate(model, val_dataloader, epoch_i)\n",
        "\n",
        "            # Print performance over the entire training data\n",
        "            time_elapsed = time.time() - t0_epoch\n",
        "            \n",
        "            print(f\"{epoch_i + 1:^7} | {'-':^7} | {avg_train_loss:^12.6f} | {val_loss:^10.6f} | {val_accuracy:^9.2f} | {time_elapsed:^9.2f}\")\n",
        "            print(\"-\"*70)\n",
        "        print(\"\\n\")\n",
        "    \n",
        "    print(\"Training complete!\")\n",
        "\n",
        "\n",
        "def evaluate(model, val_dataloader, step):\n",
        "    \n",
        "    global global_balanced_acc\n",
        "\n",
        "    model.eval()\n",
        "\n",
        "    val_accuracy = []\n",
        "    val_loss = []\n",
        "    \n",
        "    all_preds = []\n",
        "    all_labels = []\n",
        "\n",
        "    for data in val_dataloader:\n",
        "        ids = data['ids'].to(device, dtype = torch.long)\n",
        "        mask = data['mask'].to(device, dtype = torch.long)\n",
        "        token_type_ids = data['token_type_ids'].to(device, dtype = torch.long)\n",
        "        b_labels = data['targets'].to(device, dtype = torch.long)\n",
        "        \n",
        "        with torch.no_grad():\n",
        "            logits = model(ids, mask, token_type_ids)\n",
        "\n",
        "        loss = loss_fn(logits, b_labels)\n",
        "        val_loss.append(loss.item())\n",
        "\n",
        "        preds = torch.argmax(logits, dim=1).flatten()\n",
        "        \n",
        "        all_preds += preds.tolist()\n",
        "        all_labels += b_labels.tolist()\n",
        "\n",
        "        accuracy = (preds == b_labels).cpu().numpy().mean() * 100\n",
        "        val_accuracy.append(accuracy)\n",
        "\n",
        "    val_loss = np.mean(val_loss)\n",
        "    val_accuracy = np.mean(val_accuracy)\n",
        "    experiment.log_metric('loss_val', val_loss)\n",
        "    \n",
        "    b_accuracy = balanced_accuracy_score(all_labels, all_preds)\n",
        "    print('Balanced_accuracy know: ', b_accuracy)\n",
        "    experiment.log_metric('loss_b_accuracy', b_accuracy)\n",
        "    \n",
        "    if abs(b_accuracy - global_balanced_acc) > 1e-7:\n",
        "        global_balanced_acc = b_accuracy\n",
        "        best_model_params = deepcopy(model.state_dict())\n",
        "        \n",
        "        output_model_file = f'second_bert_sentiment_{round(b_accuracy, 4)}_{step}.bin'\n",
        "\n",
        "        model_to_save = model\n",
        "        torch.save(model_to_save, output_model_file)\n",
        "        \n",
        "        print(f'File {output_model_file} saved')\n",
        "\n",
        "    return val_loss, val_accuracy"
      ]
    },
    {
      "cell_type": "code",
      "execution_count": null,
      "metadata": {
        "execution": {
          "iopub.execute_input": "2023-05-15T21:03:26.464941Z",
          "iopub.status.busy": "2023-05-15T21:03:26.463046Z",
          "iopub.status.idle": "2023-05-15T21:54:00.342260Z",
          "shell.execute_reply": "2023-05-15T21:54:00.340984Z",
          "shell.execute_reply.started": "2023-05-15T21:03:26.464906Z"
        },
        "id": "TUlfjDGRjYPL",
        "outputId": "65608e70-f286-4c68-9212-85150053c14d",
        "trusted": true
      },
      "outputs": [
        {
          "name": "stderr",
          "output_type": "stream",
          "text": [
            "Truncation was not explicitly activated but `max_length` is provided a specific value, please use `truncation=True` to explicitly truncate examples to max length. Defaulting to 'longest_first' truncation strategy. If you encode pairs of sequences (GLUE-style) with the tokenizer you can select this strategy more precisely by providing a specific strategy to `truncation`.\n"
          ]
        },
        {
          "name": "stdout",
          "output_type": "stream",
          "text": [
            "Start training...\n",
            "\n",
            " Epoch  |  Batch  |  Train Loss  |  Val Loss  |  Val Acc  |  Elapsed \n",
            "----------------------------------------------------------------------\n",
            "   1    |   100   |   0.199851   |     -      |     -     |  139.15  \n",
            "   1    |   200   |   0.055872   |     -      |     -     |  140.71  \n",
            "   1    |   300   |   0.034247   |     -      |     -     |  141.15  \n",
            "   1    |   391   |   0.048685   |     -      |     -     |  128.09  \n",
            "----------------------------------------------------------------------\n",
            "Balanced_accuracy know:  0.9859359044530311\n",
            "   1    |    -    |   0.085783   |  0.100129  |   98.53   |  605.08  \n",
            "----------------------------------------------------------------------\n",
            "\n",
            "\n",
            " Epoch  |  Batch  |  Train Loss  |  Val Loss  |  Val Acc  |  Elapsed \n",
            "----------------------------------------------------------------------\n",
            "   2    |   100   |   0.017811   |     -      |     -     |  142.52  \n",
            "   2    |   200   |   0.009677   |     -      |     -     |  141.14  \n",
            "   2    |   300   |   0.017761   |     -      |     -     |  141.11  \n",
            "   2    |   391   |   0.014217   |     -      |     -     |  128.15  \n",
            "----------------------------------------------------------------------\n",
            "Balanced_accuracy know:  0.997612551159618\n",
            "   2    |    -    |   0.014889   |  0.016838  |   99.78   |  608.23  \n",
            "----------------------------------------------------------------------\n",
            "\n",
            "\n",
            " Epoch  |  Batch  |  Train Loss  |  Val Loss  |  Val Acc  |  Elapsed \n",
            "----------------------------------------------------------------------\n",
            "   3    |   100   |   0.014876   |     -      |     -     |  142.65  \n",
            "   3    |   200   |   0.027329   |     -      |     -     |  140.80  \n",
            "   3    |   300   |   0.008682   |     -      |     -     |  140.97  \n",
            "   3    |   391   |   0.002099   |     -      |     -     |  128.13  \n",
            "----------------------------------------------------------------------\n",
            "Balanced_accuracy know:  0.997612551159618\n",
            "   3    |    -    |   0.013506   |  0.017542  |   99.78   |  606.38  \n",
            "----------------------------------------------------------------------\n",
            "\n",
            "\n",
            " Epoch  |  Batch  |  Train Loss  |  Val Loss  |  Val Acc  |  Elapsed \n",
            "----------------------------------------------------------------------\n",
            "   4    |   100   |   0.007580   |     -      |     -     |  142.64  \n",
            "   4    |   200   |   0.013274   |     -      |     -     |  141.13  \n",
            "   4    |   300   |   0.012093   |     -      |     -     |  140.92  \n",
            "   4    |   391   |   0.010628   |     -      |     -     |  128.45  \n",
            "----------------------------------------------------------------------\n",
            "Balanced_accuracy know:  0.997612551159618\n",
            "   4    |    -    |   0.010891   |  0.017850  |   99.78   |  606.91  \n",
            "----------------------------------------------------------------------\n",
            "\n",
            "\n",
            " Epoch  |  Batch  |  Train Loss  |  Val Loss  |  Val Acc  |  Elapsed \n",
            "----------------------------------------------------------------------\n",
            "   5    |   100   |   0.005938   |     -      |     -     |  142.43  \n",
            "   5    |   200   |   0.007232   |     -      |     -     |  140.95  \n",
            "   5    |   300   |   0.010169   |     -      |     -     |  140.86  \n",
            "   5    |   391   |   0.010396   |     -      |     -     |  128.07  \n",
            "----------------------------------------------------------------------\n",
            "Balanced_accuracy know:  0.997612551159618\n",
            "   5    |    -    |   0.008383   |  0.018139  |   99.78   |  606.02  \n",
            "----------------------------------------------------------------------\n",
            "\n",
            "\n",
            "Training complete!\n"
          ]
        }
      ],
      "source": [
        "train(bert_classifier, training_loader, dev_loader, epochs=parameters['epochs'], evaluation=True)"
      ]
    },
    {
      "cell_type": "code",
      "execution_count": null,
      "metadata": {
        "execution": {
          "iopub.execute_input": "2023-05-15T21:54:00.344741Z",
          "iopub.status.busy": "2023-05-15T21:54:00.344321Z",
          "iopub.status.idle": "2023-05-15T21:54:00.354834Z",
          "shell.execute_reply": "2023-05-15T21:54:00.353584Z",
          "shell.execute_reply.started": "2023-05-15T21:54:00.344702Z"
        },
        "id": "fUZb2nXFjYPL",
        "trusted": true
      },
      "outputs": [],
      "source": [
        "def get_predicts(model, loader, _type_):\n",
        "    \n",
        "    model.eval()\n",
        "    n_correct = 0; n_wrong = 0; total = 0; tr_loss=0; nb_tr_steps=0; nb_tr_examples=0\n",
        "    all_preds, all_labels = [], []\n",
        "    \n",
        "    \n",
        "    with torch.no_grad():\n",
        "        for _, data in (enumerate(loader, 0)):\n",
        "            ids = data['ids'].to(device, dtype = torch.long)\n",
        "            mask = data['mask'].to(device, dtype = torch.long)\n",
        "            token_type_ids = data['token_type_ids'].to(device, dtype = torch.long)\n",
        "            b_labels = data['targets'].to(device, dtype = torch.long)\n",
        "\n",
        "            logits = model(ids, mask, token_type_ids)\n",
        "            preds = torch.argmax(logits, dim=1).flatten()\n",
        "\n",
        "            all_preds += preds.tolist()\n",
        "            all_labels += b_labels.tolist()\n",
        "\n",
        "    \n",
        "    return all_preds, all_labels\n"
      ]
    },
    {
      "cell_type": "code",
      "execution_count": null,
      "metadata": {
        "execution": {
          "iopub.execute_input": "2023-05-15T21:59:23.668237Z",
          "iopub.status.busy": "2023-05-15T21:59:23.667841Z",
          "iopub.status.idle": "2023-05-15T21:59:24.170611Z",
          "shell.execute_reply": "2023-05-15T21:59:24.169597Z",
          "shell.execute_reply.started": "2023-05-15T21:59:23.668207Z"
        },
        "id": "NLA07zkjjYPL",
        "trusted": true
      },
      "outputs": [],
      "source": [
        "model = torch.load('/kaggle/working/second_bert_sentiment_0.9976_0.bin')\n",
        "model.eval()\n",
        "None"
      ]
    },
    {
      "cell_type": "code",
      "execution_count": null,
      "metadata": {
        "execution": {
          "iopub.execute_input": "2023-05-15T21:59:30.356749Z",
          "iopub.status.busy": "2023-05-15T21:59:30.356359Z",
          "iopub.status.idle": "2023-05-15T22:06:16.408807Z",
          "shell.execute_reply": "2023-05-15T22:06:16.407679Z",
          "shell.execute_reply.started": "2023-05-15T21:59:30.356719Z"
        },
        "id": "oGUqdZlkjYPM",
        "trusted": true
      },
      "outputs": [],
      "source": [
        "y_pred_test, y_test = get_predicts(model, testing_loader, 'Test')\n",
        "y_pred_train, y_train = get_predicts(model, training_loader, 'Train')\n",
        "y_pred_val, y_val = get_predicts(model, dev_loader, 'Validation')\n",
        "\n",
        "y_pred_senti, y_senti = get_predicts(model, testing_rusenti_loader, 'Test_senti')"
      ]
    },
    {
      "cell_type": "code",
      "execution_count": null,
      "metadata": {
        "execution": {
          "iopub.execute_input": "2023-05-15T22:06:16.421933Z",
          "iopub.status.busy": "2023-05-15T22:06:16.421156Z",
          "iopub.status.idle": "2023-05-15T22:06:17.678084Z",
          "shell.execute_reply": "2023-05-15T22:06:17.677131Z",
          "shell.execute_reply.started": "2023-05-15T22:06:16.421900Z"
        },
        "id": "OqdpA33JjYPM",
        "outputId": "c80bbd58-1711-46d3-eb18-88f4909ac418",
        "trusted": true
      },
      "outputs": [
        {
          "data": {
            "image/png": "[encoded data removed]",
            "text/plain": [
              "<Figure size 500x500 with 2 Axes>"
            ]
          },
          "metadata": {},
          "output_type": "display_data"
        },
        {
          "data": {
            "image/png": "[encoded data removed]",
            "text/plain": [
              "<Figure size 500x500 with 2 Axes>"
            ]
          },
          "metadata": {},
          "output_type": "display_data"
        },
        {
          "data": {
            "image/png": "[encoded data removed]",
            "text/plain": [
              "<Figure size 500x500 with 2 Axes>"
            ]
          },
          "metadata": {},
          "output_type": "display_data"
        },
        {
          "data": {
            "image/png": "[encoded data removed]",
            "text/plain": [
              "<Figure size 500x500 with 2 Axes>"
            ]
          },
          "metadata": {},
          "output_type": "display_data"
        }
      ],
      "source": [
        "cm_plot(y_train, y_pred_train, 'train')\n",
        "cm_plot(y_val, y_pred_val, 'val')\n",
        "cm_plot(y_test, y_pred_test, 'test')\n",
        "\n",
        "cm_plot(y_senti, y_pred_senti, 'test_senti')"
      ]
    },
    {
      "cell_type": "code",
      "execution_count": null,
      "metadata": {
        "execution": {
          "iopub.execute_input": "2023-05-15T22:08:04.557161Z",
          "iopub.status.busy": "2023-05-15T22:08:04.556788Z",
          "iopub.status.idle": "2023-05-15T22:08:04.722356Z",
          "shell.execute_reply": "2023-05-15T22:08:04.721135Z",
          "shell.execute_reply.started": "2023-05-15T22:08:04.557127Z"
        },
        "id": "0MKx27CljYPN",
        "outputId": "48605c82-44bc-4815-e945-9d2bc3883d63",
        "trusted": true
      },
      "outputs": [
        {
          "data": {
            "text/html": [
              "<div>\n",
              "<style scoped>\n",
              "    .dataframe tbody tr th:only-of-type {\n",
              "        vertical-align: middle;\n",
              "    }\n",
              "\n",
              "    .dataframe tbody tr th {\n",
              "        vertical-align: top;\n",
              "    }\n",
              "\n",
              "    .dataframe thead th {\n",
              "        text-align: right;\n",
              "    }\n",
              "</style>\n",
              "<table border=\"1\" class=\"dataframe\">\n",
              "  <thead>\n",
              "    <tr style=\"text-align: right;\">\n",
              "      <th></th>\n",
              "      <th>t1</th>\n",
              "      <th>t2</th>\n",
              "    </tr>\n",
              "  </thead>\n",
              "  <tbody>\n",
              "    <tr>\n",
              "      <th>balanced_accuracy_score</th>\n",
              "      <td>0.998816</td>\n",
              "      <td>0.99809</td>\n",
              "    </tr>\n",
              "    <tr>\n",
              "      <th>accuracy_score</th>\n",
              "      <td>0.998884</td>\n",
              "      <td>0.998214</td>\n",
              "    </tr>\n",
              "    <tr>\n",
              "      <th>f1 weighted</th>\n",
              "      <td>0.998884</td>\n",
              "      <td>0.998214</td>\n",
              "    </tr>\n",
              "    <tr>\n",
              "      <th>f1 micro</th>\n",
              "      <td>0.998884</td>\n",
              "      <td>0.998214</td>\n",
              "    </tr>\n",
              "    <tr>\n",
              "      <th>f1 macro</th>\n",
              "      <td>0.998879</td>\n",
              "      <td>0.998206</td>\n",
              "    </tr>\n",
              "  </tbody>\n",
              "</table>\n",
              "</div>"
            ],
            "text/plain": [
              "                               t1        t2\n",
              "balanced_accuracy_score  0.998816   0.99809\n",
              "accuracy_score           0.998884  0.998214\n",
              "f1 weighted              0.998884  0.998214\n",
              "f1 micro                 0.998884  0.998214\n",
              "f1 macro                 0.998879  0.998206"
            ]
          },
          "execution_count": 26,
          "metadata": {},
          "output_type": "execute_result"
        }
      ],
      "source": [
        "statistic(y_pred_test, y_test, y_pred_train, y_train, 'train', 'test')"
      ]
    },
    {
      "cell_type": "code",
      "execution_count": null,
      "metadata": {
        "execution": {
          "iopub.execute_input": "2023-05-15T22:08:08.650317Z",
          "iopub.status.busy": "2023-05-15T22:08:08.649953Z",
          "iopub.status.idle": "2023-05-15T22:08:08.709729Z",
          "shell.execute_reply": "2023-05-15T22:08:08.708684Z",
          "shell.execute_reply.started": "2023-05-15T22:08:08.650289Z"
        },
        "id": "OBO26MWgjYPN",
        "outputId": "33115913-a7a8-4f4a-803d-e5b3a920aa08",
        "trusted": true
      },
      "outputs": [
        {
          "data": {
            "text/html": [
              "<div>\n",
              "<style scoped>\n",
              "    .dataframe tbody tr th:only-of-type {\n",
              "        vertical-align: middle;\n",
              "    }\n",
              "\n",
              "    .dataframe tbody tr th {\n",
              "        vertical-align: top;\n",
              "    }\n",
              "\n",
              "    .dataframe thead th {\n",
              "        text-align: right;\n",
              "    }\n",
              "</style>\n",
              "<table border=\"1\" class=\"dataframe\">\n",
              "  <thead>\n",
              "    <tr style=\"text-align: right;\">\n",
              "      <th></th>\n",
              "      <th>t1</th>\n",
              "      <th>t2</th>\n",
              "    </tr>\n",
              "  </thead>\n",
              "  <tbody>\n",
              "    <tr>\n",
              "      <th>balanced_accuracy_score</th>\n",
              "      <td>0.997613</td>\n",
              "      <td>0.52028</td>\n",
              "    </tr>\n",
              "    <tr>\n",
              "      <th>accuracy_score</th>\n",
              "      <td>0.997768</td>\n",
              "      <td>0.503062</td>\n",
              "    </tr>\n",
              "    <tr>\n",
              "      <th>f1 weighted</th>\n",
              "      <td>0.997768</td>\n",
              "      <td>0.500237</td>\n",
              "    </tr>\n",
              "    <tr>\n",
              "      <th>f1 micro</th>\n",
              "      <td>0.997768</td>\n",
              "      <td>0.503062</td>\n",
              "    </tr>\n",
              "    <tr>\n",
              "      <th>f1 macro</th>\n",
              "      <td>0.997758</td>\n",
              "      <td>0.502596</td>\n",
              "    </tr>\n",
              "  </tbody>\n",
              "</table>\n",
              "</div>"
            ],
            "text/plain": [
              "                               t1        t2\n",
              "balanced_accuracy_score  0.997613   0.52028\n",
              "accuracy_score           0.997768  0.503062\n",
              "f1 weighted              0.997768  0.500237\n",
              "f1 micro                 0.997768  0.503062\n",
              "f1 macro                 0.997758  0.502596"
            ]
          },
          "execution_count": 27,
          "metadata": {},
          "output_type": "execute_result"
        }
      ],
      "source": [
        "statistic(y_pred_senti, y_senti, y_pred_val, y_val, 'test_senti', 'dev')"
      ]
    }
  ],
  "metadata": {
    "accelerator": "GPU",
    "colab": {
      "provenance": []
    },
    "kernelspec": {
      "display_name": "Python 3",
      "language": "python",
      "name": "python3"
    },
    "language_info": {
      "codemirror_mode": {
        "name": "ipython",
        "version": 3
      },
      "file_extension": ".py",
      "mimetype": "text/x-python",
      "name": "python",
      "nbconvert_exporter": "python",
      "pygments_lexer": "ipython3",
      "version": "3.10.10"
    },
    "widgets": {
      "application/vnd.jupyter.widget-state+json": {
        "1b67b76cd9394e3b8addf6195ca9611a": {
          "model_module": "@jupyter-widgets/controls",
          "model_module_version": "1.5.0",
          "model_name": "HTMLModel",
          "state": {
            "_dom_classes": [],
            "_model_module": "@jupyter-widgets/controls",
            "_model_module_version": "1.5.0",
            "_model_name": "HTMLModel",
            "_view_count": null,
            "_view_module": "@jupyter-widgets/controls",
            "_view_module_version": "1.5.0",
            "_view_name": "HTMLView",
            "description": "",
            "description_tooltip": null,
            "layout": "IPY_MODEL_b5dd7f6b28d542ea9d3831028c888f44",
            "placeholder": "​",
            "style": "IPY_MODEL_23b26013d0144f468af29109e37e3a60",
            "value": " 232k/232k [00:00&lt;00:00, 388kB/s]"
          }
        },
        "23b26013d0144f468af29109e37e3a60": {
          "model_module": "@jupyter-widgets/controls",
          "model_module_version": "1.5.0",
          "model_name": "DescriptionStyleModel",
          "state": {
            "_model_module": "@jupyter-widgets/controls",
            "_model_module_version": "1.5.0",
            "_model_name": "DescriptionStyleModel",
            "_view_count": null,
            "_view_module": "@jupyter-widgets/base",
            "_view_module_version": "1.2.0",
            "_view_name": "StyleView",
            "description_width": ""
          }
        },
        "4ff1e0e231244d79a4d1ebdc2e7b8235": {
          "model_module": "@jupyter-widgets/controls",
          "model_module_version": "1.5.0",
          "model_name": "HBoxModel",
          "state": {
            "_dom_classes": [],
            "_model_module": "@jupyter-widgets/controls",
            "_model_module_version": "1.5.0",
            "_model_name": "HBoxModel",
            "_view_count": null,
            "_view_module": "@jupyter-widgets/controls",
            "_view_module_version": "1.5.0",
            "_view_name": "HBoxView",
            "box_style": "",
            "children": [
              "IPY_MODEL_a7354b526df9448d8fd6c4a264c2ac24",
              "IPY_MODEL_1b67b76cd9394e3b8addf6195ca9611a"
            ],
            "layout": "IPY_MODEL_51d4c2a94e654b83916d011c65248d04"
          }
        },
        "51d4c2a94e654b83916d011c65248d04": {
          "model_module": "@jupyter-widgets/base",
          "model_module_version": "1.2.0",
          "model_name": "LayoutModel",
          "state": {
            "_model_module": "@jupyter-widgets/base",
            "_model_module_version": "1.2.0",
            "_model_name": "LayoutModel",
            "_view_count": null,
            "_view_module": "@jupyter-widgets/base",
            "_view_module_version": "1.2.0",
            "_view_name": "LayoutView",
            "align_content": null,
            "align_items": null,
            "align_self": null,
            "border": null,
            "bottom": null,
            "display": null,
            "flex": null,
            "flex_flow": null,
            "grid_area": null,
            "grid_auto_columns": null,
            "grid_auto_flow": null,
            "grid_auto_rows": null,
            "grid_column": null,
            "grid_gap": null,
            "grid_row": null,
            "grid_template_areas": null,
            "grid_template_columns": null,
            "grid_template_rows": null,
            "height": null,
            "justify_content": null,
            "justify_items": null,
            "left": null,
            "margin": null,
            "max_height": null,
            "max_width": null,
            "min_height": null,
            "min_width": null,
            "object_fit": null,
            "object_position": null,
            "order": null,
            "overflow": null,
            "overflow_x": null,
            "overflow_y": null,
            "padding": null,
            "right": null,
            "top": null,
            "visibility": null,
            "width": null
          }
        },
        "84c7d4fb46924b7fa412d188ea7e05da": {
          "model_module": "@jupyter-widgets/base",
          "model_module_version": "1.2.0",
          "model_name": "LayoutModel",
          "state": {
            "_model_module": "@jupyter-widgets/base",
            "_model_module_version": "1.2.0",
            "_model_name": "LayoutModel",
            "_view_count": null,
            "_view_module": "@jupyter-widgets/base",
            "_view_module_version": "1.2.0",
            "_view_name": "LayoutView",
            "align_content": null,
            "align_items": null,
            "align_self": null,
            "border": null,
            "bottom": null,
            "display": null,
            "flex": null,
            "flex_flow": null,
            "grid_area": null,
            "grid_auto_columns": null,
            "grid_auto_flow": null,
            "grid_auto_rows": null,
            "grid_column": null,
            "grid_gap": null,
            "grid_row": null,
            "grid_template_areas": null,
            "grid_template_columns": null,
            "grid_template_rows": null,
            "height": null,
            "justify_content": null,
            "justify_items": null,
            "left": null,
            "margin": null,
            "max_height": null,
            "max_width": null,
            "min_height": null,
            "min_width": null,
            "object_fit": null,
            "object_position": null,
            "order": null,
            "overflow": null,
            "overflow_x": null,
            "overflow_y": null,
            "padding": null,
            "right": null,
            "top": null,
            "visibility": null,
            "width": null
          }
        },
        "a7354b526df9448d8fd6c4a264c2ac24": {
          "model_module": "@jupyter-widgets/controls",
          "model_module_version": "1.5.0",
          "model_name": "FloatProgressModel",
          "state": {
            "_dom_classes": [],
            "_model_module": "@jupyter-widgets/controls",
            "_model_module_version": "1.5.0",
            "_model_name": "FloatProgressModel",
            "_view_count": null,
            "_view_module": "@jupyter-widgets/controls",
            "_view_module_version": "1.5.0",
            "_view_name": "ProgressView",
            "bar_style": "success",
            "description": "Downloading: 100%",
            "description_tooltip": null,
            "layout": "IPY_MODEL_84c7d4fb46924b7fa412d188ea7e05da",
            "max": 231508,
            "min": 0,
            "orientation": "horizontal",
            "style": "IPY_MODEL_b9510b24e7e64b9d822d025a9b30757b",
            "value": 231508
          }
        },
        "b5dd7f6b28d542ea9d3831028c888f44": {
          "model_module": "@jupyter-widgets/base",
          "model_module_version": "1.2.0",
          "model_name": "LayoutModel",
          "state": {
            "_model_module": "@jupyter-widgets/base",
            "_model_module_version": "1.2.0",
            "_model_name": "LayoutModel",
            "_view_count": null,
            "_view_module": "@jupyter-widgets/base",
            "_view_module_version": "1.2.0",
            "_view_name": "LayoutView",
            "align_content": null,
            "align_items": null,
            "align_self": null,
            "border": null,
            "bottom": null,
            "display": null,
            "flex": null,
            "flex_flow": null,
            "grid_area": null,
            "grid_auto_columns": null,
            "grid_auto_flow": null,
            "grid_auto_rows": null,
            "grid_column": null,
            "grid_gap": null,
            "grid_row": null,
            "grid_template_areas": null,
            "grid_template_columns": null,
            "grid_template_rows": null,
            "height": null,
            "justify_content": null,
            "justify_items": null,
            "left": null,
            "margin": null,
            "max_height": null,
            "max_width": null,
            "min_height": null,
            "min_width": null,
            "object_fit": null,
            "object_position": null,
            "order": null,
            "overflow": null,
            "overflow_x": null,
            "overflow_y": null,
            "padding": null,
            "right": null,
            "top": null,
            "visibility": null,
            "width": null
          }
        },
        "b9510b24e7e64b9d822d025a9b30757b": {
          "model_module": "@jupyter-widgets/controls",
          "model_module_version": "1.5.0",
          "model_name": "ProgressStyleModel",
          "state": {
            "_model_module": "@jupyter-widgets/controls",
            "_model_module_version": "1.5.0",
            "_model_name": "ProgressStyleModel",
            "_view_count": null,
            "_view_module": "@jupyter-widgets/base",
            "_view_module_version": "1.2.0",
            "_view_name": "StyleView",
            "bar_color": null,
            "description_width": "initial"
          }
        }
      }
    }
  },
  "nbformat": 4,
  "nbformat_minor": 0
}
