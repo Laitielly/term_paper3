{
  "cells": [
    {
      "cell_type": "markdown",
      "metadata": {
        "id": "lIU38v4FYCoO"
      },
      "source": [
        "# Fine Tuning Bert for second dataset"
      ]
    },
    {
      "cell_type": "markdown",
      "metadata": {
        "id": "RSMG8qC-YCoU"
      },
      "source": [
        "<a id='section01'></a>\n",
        "### Импорт библиотек"
      ]
    },
    {
      "cell_type": "code",
      "execution_count": null,
      "metadata": {
        "colab": {
          "base_uri": "https://localhost:8080/"
        },
        "collapsed": true,
        "execution": {
          "iopub.execute_input": "2023-05-31T11:30:27.571143Z",
          "iopub.status.busy": "2023-05-31T11:30:27.570309Z",
          "iopub.status.idle": "2023-05-31T11:31:42.631320Z",
          "shell.execute_reply": "2023-05-31T11:31:42.630182Z",
          "shell.execute_reply.started": "2023-05-31T11:30:27.571108Z"
        },
        "id": "WD_vnyLXZQzD",
        "jupyter": {
          "outputs_hidden": true
        },
        "outputId": "c713367e-bc1b-4494-e8f6-4d828bacb768",
        "trusted": true
      },
      "outputs": [],
      "source": [
        "!pip install transformers\n",
        "!pip install sklearn\n",
        "!pip install torch\n",
        "!pip install comet-ml\n",
        "!pip install numpy\n",
        "!pip install pandas"
      ]
    },
    {
      "cell_type": "code",
      "execution_count": 2,
      "metadata": {
        "execution": {
          "iopub.execute_input": "2023-05-31T11:31:42.635439Z",
          "iopub.status.busy": "2023-05-31T11:31:42.635127Z",
          "iopub.status.idle": "2023-05-31T11:31:58.086543Z",
          "shell.execute_reply": "2023-05-31T11:31:58.085664Z",
          "shell.execute_reply.started": "2023-05-31T11:31:42.635410Z"
        },
        "id": "pzM1_ykHaFur",
        "trusted": true
      },
      "outputs": [],
      "source": [
        "import sklearn\n",
        "import numpy as np\n",
        "import pandas as pd\n",
        "import seaborn as sns\n",
        "import matplotlib.pyplot as plt\n",
        "\n",
        "import regex as re\n",
        "\n",
        "import comet_ml\n",
        "from comet_ml import Experiment\n",
        "\n",
        "import transformers\n",
        "from transformers import BertTokenizer, BertModel\n",
        "from transformers import AdamW, get_linear_schedule_with_warmup\n",
        "\n",
        "import torch\n",
        "import torch.nn as nn\n",
        "from torch import cuda\n",
        "from torch.utils.data import Dataset, DataLoader\n",
        "\n",
        "from sklearn.metrics import f1_score\n",
        "from sklearn.metrics import accuracy_score\n",
        "from sklearn.metrics import confusion_matrix\n",
        "from sklearn.metrics import balanced_accuracy_score\n",
        "\n",
        "import warnings\n",
        "warnings.filterwarnings('ignore')"
      ]
    },
    {
      "cell_type": "markdown",
      "metadata": {
        "id": "VPi1O3PZSMTP"
      },
      "source": [
        "<a id='section02'></a>\n",
        "### Инициализация функций"
      ]
    },
    {
      "cell_type": "code",
      "execution_count": 3,
      "metadata": {
        "execution": {
          "iopub.execute_input": "2023-05-31T11:31:58.088263Z",
          "iopub.status.busy": "2023-05-31T11:31:58.087898Z",
          "iopub.status.idle": "2023-05-31T11:31:58.094982Z",
          "shell.execute_reply": "2023-05-31T11:31:58.093673Z",
          "shell.execute_reply.started": "2023-05-31T11:31:58.088229Z"
        },
        "id": "mEnHxz_Qc_UB",
        "trusted": true
      },
      "outputs": [],
      "source": [
        "def cm_plot(y_test, y_pred, y_type):\n",
        "\n",
        "    cm = confusion_matrix(y_test, y_pred)\n",
        "    # Normalise\n",
        "    cmn = cm.astype('float') / cm.sum(axis=1)[:, np.newaxis]\n",
        "    fig, ax = plt.subplots(figsize=(5,5))\n",
        "    sns.heatmap(cmn, cmap='Blues', annot=True, fmt='.2f')\n",
        "    sns.set(font_scale=1.3)\n",
        "    plt.title(f'Confusion Matrix of {y_type}')\n",
        "\n",
        "    return plt.show()"
      ]
    },
    {
      "cell_type": "code",
      "execution_count": 4,
      "metadata": {
        "execution": {
          "iopub.execute_input": "2023-05-31T11:31:58.098531Z",
          "iopub.status.busy": "2023-05-31T11:31:58.097976Z",
          "iopub.status.idle": "2023-05-31T11:31:58.110516Z",
          "shell.execute_reply": "2023-05-31T11:31:58.109556Z",
          "shell.execute_reply.started": "2023-05-31T11:31:58.098494Z"
        },
        "id": "cyl717CmSMTQ",
        "trusted": true
      },
      "outputs": [],
      "source": [
        "def statistic(y_pred_test, y_test, y_pred_train, y_train,\n",
        "             t1, t2):\n",
        "    score_table = pd.DataFrame(columns=(t1, t2))\n",
        "\n",
        "    b_train = balanced_accuracy_score(y_train, y_pred_train)\n",
        "    b_test = balanced_accuracy_score(y_test, y_pred_test)\n",
        "    score_table.loc['balanced_accuracy_score', :] = (b_train, b_test)\n",
        "\n",
        "    a_train = accuracy_score(y_train, y_pred_train)\n",
        "    a_test = accuracy_score(y_test, y_pred_test)\n",
        "    score_table.loc['accuracy_score', :] = (a_train, a_test)\n",
        "\n",
        "    f1_train = f1_score(y_train, y_pred_train, average='weighted')\n",
        "    f1_test = f1_score(y_test, y_pred_test, average='weighted')\n",
        "    score_table.loc['f1 weighted', :] = (f1_train, f1_test)\n",
        "\n",
        "    f1_train = f1_score(y_train, y_pred_train, average='micro')\n",
        "    f1_test = f1_score(y_test, y_pred_test, average='micro')\n",
        "    score_table.loc['f1 micro', :] = (f1_train, f1_test)\n",
        "\n",
        "    f1_train = f1_score(y_train, y_pred_train, average='macro')\n",
        "    f1_test = f1_score(y_test, y_pred_test, average='macro')\n",
        "    score_table.loc['f1 macro', :] = (f1_train, f1_test)\n",
        "\n",
        "    return score_table"
      ]
    },
    {
      "cell_type": "code",
      "execution_count": 5,
      "metadata": {
        "execution": {
          "iopub.execute_input": "2023-05-31T11:31:58.112387Z",
          "iopub.status.busy": "2023-05-31T11:31:58.112017Z",
          "iopub.status.idle": "2023-05-31T11:31:58.123521Z",
          "shell.execute_reply": "2023-05-31T11:31:58.122666Z",
          "shell.execute_reply.started": "2023-05-31T11:31:58.112321Z"
        },
        "id": "7jXthIPkSMTP",
        "trusted": true
      },
      "outputs": [],
      "source": [
        "def set_experiment(api_key, project_name, workspace):\n",
        "    experiment = Experiment(\n",
        "    api_key=api_key,\n",
        "    project_name=project_name,\n",
        "    workspace=workspace\n",
        ")\n",
        "    \n",
        "    return experiment"
      ]
    },
    {
      "cell_type": "code",
      "execution_count": 6,
      "metadata": {
        "execution": {
          "iopub.execute_input": "2023-05-31T11:31:58.124939Z",
          "iopub.status.busy": "2023-05-31T11:31:58.124666Z",
          "iopub.status.idle": "2023-05-31T11:31:58.134176Z",
          "shell.execute_reply": "2023-05-31T11:31:58.133300Z",
          "shell.execute_reply.started": "2023-05-31T11:31:58.124916Z"
        },
        "id": "VIVMdhJhSMTQ",
        "trusted": true
      },
      "outputs": [],
      "source": [
        "def log_parameters(experiment, hyper_params):\n",
        "    experiment.log_parameter(\"train_batch_size\", hyper_params['batch_size'])\n",
        "    experiment.log_parameter(\"test_batch_size\", hyper_params['batch_size'])\n",
        "\n",
        "    experiment.log_parameter(\"Learning Rate\", hyper_params['lr'])\n",
        "    experiment.log_parameter(\"general_epochs\", hyper_params['epochs'])\n",
        "    experiment.log_parameter(\"max_len\", hyper_params['max_len'])"
      ]
    },
    {
      "cell_type": "code",
      "execution_count": 7,
      "metadata": {
        "execution": {
          "iopub.execute_input": "2023-05-31T11:31:58.137325Z",
          "iopub.status.busy": "2023-05-31T11:31:58.136606Z",
          "iopub.status.idle": "2023-05-31T11:31:58.146300Z",
          "shell.execute_reply": "2023-05-31T11:31:58.145365Z",
          "shell.execute_reply.started": "2023-05-31T11:31:58.137294Z"
        },
        "id": "oFOylAXqiNYK",
        "trusted": true
      },
      "outputs": [],
      "source": [
        "class CustomDataset(Dataset):\n",
        "\n",
        "    def __init__(self, dataframe, tokenizer, max_len):\n",
        "        self.tokenizer = tokenizer\n",
        "        self.data = dataframe\n",
        "        self.comment_text = dataframe.Text\n",
        "        self.targets = dataframe.Class\n",
        "        self.max_len = max_len\n",
        "\n",
        "    def __len__(self):\n",
        "        return len(self.comment_text)\n",
        "\n",
        "    def __getitem__(self, index):\n",
        "        comment_text = str(self.comment_text[index])\n",
        "        comment_text = \" \".join(comment_text.split())\n",
        "\n",
        "        inputs = self.tokenizer.encode_plus(\n",
        "            comment_text,\n",
        "            None,\n",
        "            add_special_tokens=True,\n",
        "            max_length=self.max_len,\n",
        "            pad_to_max_length=True,\n",
        "            return_token_type_ids=True\n",
        "        )\n",
        "        ids = inputs['input_ids']\n",
        "        mask = inputs['attention_mask']\n",
        "        token_type_ids = inputs[\"token_type_ids\"]\n",
        "\n",
        "\n",
        "        return {\n",
        "            'ids': torch.tensor(ids, dtype=torch.long),\n",
        "            'mask': torch.tensor(mask, dtype=torch.long),\n",
        "            'token_type_ids': torch.tensor(token_type_ids, dtype=torch.long),\n",
        "            'targets': torch.tensor(self.targets[index], dtype=torch.float)\n",
        "        }"
      ]
    },
    {
      "cell_type": "code",
      "execution_count": 8,
      "metadata": {
        "execution": {
          "iopub.execute_input": "2023-05-31T11:31:58.148032Z",
          "iopub.status.busy": "2023-05-31T11:31:58.147654Z",
          "iopub.status.idle": "2023-05-31T11:31:58.160016Z",
          "shell.execute_reply": "2023-05-31T11:31:58.159206Z",
          "shell.execute_reply.started": "2023-05-31T11:31:58.148002Z"
        },
        "id": "nQL2i1l_SMTS",
        "trusted": true
      },
      "outputs": [],
      "source": [
        "class BertClassifier(nn.Module):\n",
        "\n",
        "    def __init__(self, freeze_bert=False):\n",
        "        \n",
        "        super(BertClassifier, self).__init__()\n",
        "        D_in, H, D_out = 768, 50, 3\n",
        "\n",
        "        self.bert = BertModel.from_pretrained('bert-base-multilingual-cased')\n",
        "\n",
        "        self.classifier = nn.Sequential(\n",
        "            nn.Linear(D_in, H),\n",
        "            nn.ReLU(),\n",
        "            nn.Dropout(0.3),\n",
        "            nn.Linear(H, D_out)\n",
        "        )\n",
        "\n",
        "        if freeze_bert:\n",
        "            for param in self.bert.parameters():\n",
        "                param.requires_grad = False\n",
        "        \n",
        "    def forward(self, input_ids, attention_mask, token_type_ids):\n",
        "\n",
        "        outputs = self.bert(input_ids=input_ids,\n",
        "                            attention_mask=attention_mask, token_type_ids=token_type_ids)\n",
        "        \n",
        "        pooler_output = outputs.pooler_output\n",
        "        logits = self.classifier(pooler_output)\n",
        "\n",
        "        return logits"
      ]
    },
    {
      "cell_type": "code",
      "execution_count": null,
      "metadata": {
        "colab": {
          "base_uri": "https://localhost:8080/"
        },
        "execution": {
          "iopub.execute_input": "2023-05-31T11:31:58.161957Z",
          "iopub.status.busy": "2023-05-31T11:31:58.160902Z",
          "iopub.status.idle": "2023-05-31T11:32:02.203925Z",
          "shell.execute_reply": "2023-05-31T11:32:02.202954Z",
          "shell.execute_reply.started": "2023-05-31T11:31:58.161925Z"
        },
        "id": "7kDqwISMSMTP",
        "outputId": "1ba61f2d-674a-46d6-dc58-568ca57b7892",
        "trusted": true
      },
      "outputs": [],
      "source": [
        "api_key = xxx\n",
        "project_name = xxx\n",
        "workspace = xxx\n",
        "\n",
        "experiment = set_experiment(api_key, project_name, workspace)"
      ]
    },
    {
      "cell_type": "code",
      "execution_count": 10,
      "metadata": {
        "execution": {
          "iopub.execute_input": "2023-05-31T11:32:02.213126Z",
          "iopub.status.busy": "2023-05-31T11:32:02.210794Z",
          "iopub.status.idle": "2023-05-31T11:32:02.306398Z",
          "shell.execute_reply": "2023-05-31T11:32:02.305185Z",
          "shell.execute_reply.started": "2023-05-31T11:32:02.213092Z"
        },
        "id": "NLxxwd1scQNv",
        "trusted": true
      },
      "outputs": [],
      "source": [
        "device = 'cuda' if cuda.is_available() else 'cpu'"
      ]
    },
    {
      "cell_type": "markdown",
      "metadata": {
        "id": "0oJ_xW9LYCob"
      },
      "source": [
        "<a id='section03'></a>\n",
        "### Работа с данными"
      ]
    },
    {
      "cell_type": "code",
      "execution_count": 11,
      "metadata": {
        "id": "ggSc90o0QGhc"
      },
      "outputs": [],
      "source": [
        "import regex as re"
      ]
    },
    {
      "cell_type": "code",
      "execution_count": 12,
      "metadata": {
        "execution": {
          "iopub.execute_input": "2023-05-31T11:32:02.310229Z",
          "iopub.status.busy": "2023-05-31T11:32:02.309886Z",
          "iopub.status.idle": "2023-05-31T11:32:02.437972Z",
          "shell.execute_reply": "2023-05-31T11:32:02.437100Z",
          "shell.execute_reply.started": "2023-05-31T11:32:02.310196Z"
        },
        "id": "mZ7lTlkyaG7u",
        "trusted": true
      },
      "outputs": [],
      "source": [
        "X_train = pd.read_csv('train2.csv', header=0)\n",
        "X_dev = pd.read_csv('dev2.csv', header=0)\n",
        "X_test = pd.read_csv('test2.csv', header=0)"
      ]
    },
    {
      "cell_type": "code",
      "execution_count": 13,
      "metadata": {
        "id": "XUp8e1ksRi--"
      },
      "outputs": [],
      "source": [
        "X_train['Text'] = X_train[\"Text\"].str.lower()\n",
        "X_dev['Text'] = X_dev[\"Text\"].str.lower()\n",
        "X_test['Text'] =X_test[\"Text\"].str.lower()"
      ]
    },
    {
      "cell_type": "code",
      "execution_count": 14,
      "metadata": {
        "id": "kuWM2q_LPcwz"
      },
      "outputs": [],
      "source": [
        "def remove_urls(text):\n",
        "    url_pattern = re.compile(r'https?://\\S+|www\\.\\S+')\n",
        "    per_pattern = re.compile(r'@[^\\s]+')\n",
        "    return per_pattern.sub(r'', url_pattern.sub(r'', text))\n",
        "\n",
        "X_train['Text'] = [remove_urls(i) for i in X_train['Text']]\n",
        "X_dev['Text'] = [remove_urls(i) for i in X_dev['Text']]\n",
        "X_test['Text'] = [remove_urls(i) for i in X_test['Text']]"
      ]
    },
    {
      "cell_type": "code",
      "execution_count": 15,
      "metadata": {
        "id": "HNTNFphbkjcV"
      },
      "outputs": [],
      "source": [
        "EMOTICONS = {\n",
        "    u\":‑\\)\":\"улыбка\",\n",
        "    u\":\\)\":\"улыбка\",\n",
        "    u\":-\\]\":\"улыбка\",\n",
        "    u\":\\]\":\"улыбка\",\n",
        "    u\":-3\":\"улыбка\",\n",
        "    u\":3\":\"улыбка\",\n",
        "    u\":->\":\"улыбка\",\n",
        "    u\":>\":\"улыбка\",\n",
        "    u\"8-\\)\":\"улыбка\",\n",
        "    u\":o\":\"удивление\",\n",
        "    u\":о\":\"удивление\",\n",
        "    u\":-\\}\":\"улыбка\",\n",
        "    u\":\\}\":\"улыбка\",\n",
        "    u\":-\\)\":\"улыбка\",\n",
        "    u\":c\":\"грустно\",\n",
        "    u\":с\":\"грустно\",\n",
        "    u\":\\)\":\"улыбка\",\n",
        "    u\":\\^\\)\":\"улыбка\",\n",
        "    u\"=\\]\":\"улыбка\",\n",
        "    u\"=\\)\":\"улыбка\",\n",
        "    u\":‑D\":\"смешно\",\n",
        "    u\":D\":\"смешно\",\n",
        "    u\"хд\":\"смешно\",\n",
        "    u\"хД\":\"смешно\",\n",
        "    u\"ХД\":\"смешно\",\n",
        "    u\"8‑D\":\"смешно\",\n",
        "    u\"8D\":\"смешно\",\n",
        "    u\"X‑D\":\"смешно\",\n",
        "    u\"XD\":\"смешно\",\n",
        "    u\"=D\":\"смешно\",\n",
        "    u\"=\\*\":\"поцелуй\",\n",
        "    u\"=3\":\"смешно\",\n",
        "    u\"B\\^D\":\"смешно\",\n",
        "    u\":-\\)\\)\":\"очень счастлив\",\n",
        "    u\":‑\\(\":\"грустно\",\n",
        "    u\":-\\(\":\"грустно\",\n",
        "    u\":\\(\":\"грустно\",\n",
        "    u\":‑c\":\"грустно\",\n",
        "    u\":c\":\"грустно\",\n",
        "    u\":‑<\":\"грустно\",\n",
        "    u\":<\":\"грустно\",\n",
        "    u\":‑\\[\":\"грустно\",\n",
        "    u\":\\[\":\"грустно\",\n",
        "    u\":-\\|\\|\":\"грустно\",\n",
        "    u\">:\\[\":\"грустно\",\n",
        "    u\":\\{\":\"грустно\",\n",
        "    u\":@\":\"грустно\",\n",
        "    u\">:\\(\":\"грустно\",\n",
        "    u\":'‑\\(\":\"плачу\",\n",
        "    u\":'\\(\":\"плачу\",\n",
        "    u\":'‑\\)\":\"слезы счастья\",\n",
        "    u\":'\\)\":\"слезы счастья\",\n",
        "    u\"D‑':\":\"страх\",\n",
        "    u\"D:<\":\"отвращение\",\n",
        "    u\"D:\":\"грусть\",\n",
        "    u\"D8\":\"тревога\",\n",
        "    u\"D;\":\"тревога\",\n",
        "    u\"D=\":\"тревога\",\n",
        "    u\"DX\":\"тревога\",\n",
        "    u\":‑O\":\"удивление\",\n",
        "    u\":O\":\"удивление\",\n",
        "    u\":‑o\":\"удивление\",\n",
        "    u\":o\":\"удивление\",\n",
        "    u\":-0\":\"шок\",\n",
        "    u\"8‑0\":\"зевать\",\n",
        "    u\">:O\":\"зевать\",\n",
        "    u\":-\\*\":\"поцелуй\",\n",
        "    u\":\\*\":\"поцелуй\",\n",
        "    u\":X\":\"поцелуй\",\n",
        "    u\";‑\\)\":\"подмигнуть или ухмыльнуться\",\n",
        "    u\";\\)\":\"подмигнуть или ухмыльнуться\",\n",
        "    u\"\\*-\\)\":\"подмигнуть или ухмыльнуться\",\n",
        "    u\"\\*\\)\":\"подмигнуть или ухмыльнуться\",\n",
        "    u\";‑\\]\":\"подмигнуть или ухмыльнуться\",\n",
        "    u\";\\]\":\"подмигнуть или ухмыльнуться\",\n",
        "    u\";\\^\\)\":\"подмигнуть или ухмыльнуться\",\n",
        "    u\":‑,\":\"подмигнуть или ухмыльнуться\",\n",
        "    u\";D\":\"подмигнуть или ухмыльнутьсяk\",\n",
        "    u\":‑P\":\"высовывает язык, дерзкий, игривый\",\n",
        "    u\":P\":\"высовывает язык, дерзкий, игривый\",\n",
        "    u\"X‑P\":\"высовывает язык, дерзкий, игривый\",\n",
        "    u\"XP\":\"высовывает язык, дерзкий, игривый\",\n",
        "    u\":‑Þ\":\"высовывает язык, дерзкий, игривый\",\n",
        "    u\":Þ\":\"высовывает язык, дерзкий, игривый\",\n",
        "    u\":b\":\"высовывает язык, дерзкий, игривый\",\n",
        "    u\"d:\":\"высовывает язык, дерзкий, игривый\",\n",
        "    u\"=p\":\"высовывает язык, дерзкий, игривый\",\n",
        "    u\">:P\":\"высовывает язык, дерзкий, игривый\",\n",
        "    u\":‑/\":\"скептичный, раздраженный, нерешительный\",\n",
        "    u\":/\":\"скептичный, раздраженный, нерешительный\",\n",
        "    u\":-[.]\":\"скептичный, раздраженный, нерешительный\",\n",
        "    u\">:[(\\\\\\)]\":\"скептичный, раздраженный, нерешительный\",\n",
        "    u\">:/\":\"скептичный, раздраженный, нерешительный\",\n",
        "    u\":[(\\\\\\)]\":\"скептичный, раздраженный, нерешительный\",\n",
        "    u\"=/\":\"скептичный, раздраженный, нерешительный\",\n",
        "    u\"=[(\\\\\\)]\":\"скептичный, раздраженный, нерешительный\",\n",
        "    u\":L\":\"скептичный, раздраженный, нерешительный\",\n",
        "    u\"=L\":\"скептичный, раздраженный, нерешительный\",\n",
        "    u\":S\":\"скептичный, раздраженный, нерешительный\",\n",
        "    u\":‑\\|\":\"бесстрастный\",\n",
        "    u\":\\|\":\"бесстрастный\",\n",
        "    u\":$\":\"смущен\",\n",
        "    u\":‑x\":\"молчание\",\n",
        "    u\":x\":\"молчание\",\n",
        "    u\":‑#\":\"молчание\",\n",
        "    u\":#\":\"молчание\",\n",
        "    u\":‑&\":\"молчание\",\n",
        "    u\":&\":\"молчание\",\n",
        "    u\"O:‑\\)\":\"ангел, невинность\",\n",
        "    u\"О:‑\\)\":\"ангел, невинность\",\n",
        "    u\"O:\\)\":\"ангел, невинность\",\n",
        "    u\"О:\\)\":\"ангел, невинность\",\n",
        "    u\"0:‑3\":\"ангел, невинностьt\",\n",
        "    u\"0:3\":\"ангел, невинность\",\n",
        "    u\"0:‑\\)\":\"ангел, невинность\",\n",
        "    u\"0:\\)\":\"ангел, невинность\",\n",
        "    u\":‑b\":\"высовывает язык, дерзкий, игривый\",\n",
        "    u\"0;\\^\\)\":\"ангел, невинность\",\n",
        "    u\">:‑\\)\":\"зло, дьявольский\",\n",
        "    u\">:\\)\":\"зло, дьявольский\",\n",
        "    u\"\\}:‑\\)\":\"зло, дьявольский\",\n",
        "    u\"\\}:\\)\":\"зло, дьявольский\",\n",
        "    u\"3:‑\\)\":\"зло, дьявольский\",\n",
        "    u\"3:\\)\":\"зло, дьявольский\",\n",
        "    u\">;\\)\":\"зло, дьявольский\",\n",
        "    u\"\\|;‑\\)\":\"крутой\",\n",
        "    u\"\\|‑O\":\"скучный\",\n",
        "    u\":‑J\":\"ироничный\",\n",
        "    u\"#‑\\)\":\"веселье\",\n",
        "    u\"%‑\\)\":\"пьян или смущен\",\n",
        "    u\"%\\)\":\"пьян или смущен\",\n",
        "    u\":-###..\":\"болеет\",\n",
        "    u\":###..\":\"болеет\",\n",
        "    u\"<:‑\\|\":\"дурак\",\n",
        "    u\"\\(>_<\\)\":\"проблема\",\n",
        "    u\"\\(>_<\\)>\":\"проблема\",\n",
        "    u\"\\(';'\\)\":\"малыш\",\n",
        "    u\"\\(\\^\\^>``\":\"нервничает, или смущен, или обеспокоен, или застенчив, или обливается потом\",\n",
        "    u\"\\(\\^_\\^;\\)\":\"нервничает, или смущен, или обеспокоен, или застенчив, или обливается потом\",\n",
        "    u\"\\(-_-;\\)\":\"нервничает, или смущен, или обеспокоен, или застенчив, или обливается потом\",\n",
        "    u\"\\(~_~;\\) \\(・\\.・;\\)\":\"нервничает, или смущен, или обеспокоен, или застенчив, или обливается потом\",\n",
        "    u\"\\(-_-\\)zzz\":\"спит\",\n",
        "    u\"\\(\\^_-\\)\":\"подмигивает\",\n",
        "    u\"\\(\\(\\+_\\+\\)\\)\":\"смущен\",\n",
        "    u\"\\(\\+o\\+\\)\":\"смущен\",\n",
        "    u\"\\(o\\|o\\)\":\"сверхчеловек\",\n",
        "    u\"\\^_\\^\":\"радостный\",\n",
        "    u\"\\(\\^_\\^\\)/\":\"радостный\",\n",
        "    u\"\\(\\^O\\^\\)／\":\"радостный\",\n",
        "    u\"\\(\\^o\\^\\)／\":\"радостный\",\n",
        "    u\"\\(__\\)\":\"уважение или извинение\",\n",
        "    u\"_\\(\\._\\.\\)_\":\"уважение или извинение\",\n",
        "    u\"<\\(_ _\\)>\":\"уважение или извинение\",\n",
        "    u\"<m\\(__\\)m>\":\"уважение или извинение\",\n",
        "    u\"m\\(__\\)m\":\"уважение или извинение\",\n",
        "    u\"m\\(_ _\\)m\":\"уважение или извинение\",\n",
        "    u\"\\('_'\\)\":\"грустный или плачет\",\n",
        "    u\"\\(/_;\\)\":\"грустный или плачет\",\n",
        "    u\"\\(T_T\\) \\(;_;\\)\":\"грустный или плачет\",\n",
        "    u\"\\(;_;\":\"грустный или плачет\",\n",
        "    u\"\\(;_:\\)\":\"грустный или плачет\",\n",
        "    u\"\\(;O;\\)\":\"грустный или плачет\",\n",
        "    u\"\\(:_;\\)\":\"грустный или плачет\",\n",
        "    u\"\\(ToT\\)\":\"грустный или плачет\",\n",
        "    u\";_;\":\"грустный или плачет\",\n",
        "    u\";-;\":\"грустный или плачет\",\n",
        "    u\";n;\":\"грустный или плачет\",\n",
        "    u\";;\":\"грустный или плачет\",\n",
        "    u\"Q\\.Q\":\"грустный или плачет\",\n",
        "    u\"T\\.T\":\"грустный или плачет\",\n",
        "    u\"QQ\":\"грустный или плачет\",\n",
        "    u\"Q_Q\":\"грустный или плачет\",\n",
        "    u\"\\(-\\.-\\)\":\"стыд\",\n",
        "    u\"\\(-_-\\)\":\"стыд\",\n",
        "    u\"\\(一一\\)\":\"стыд\",\n",
        "    u\"\\(；一_一\\)\":\"стыд\",\n",
        "    u\"\\(=_=\\)\":\"усталость\",\n",
        "    u\"\\(=\\^\\·\\^=\\)\":\"кот\",\n",
        "    u\"\\(=\\^\\·\\·\\^=\\)\":\"кот\",\n",
        "    u\"=_\\^=\t\":\"кот\",\n",
        "    u\"\\(\\.\\.\\)\":\"смотреть вниз\",\n",
        "    u\"\\(\\._\\.\\)\":\"смотреть вниз\",\n",
        "    u\"\\^m\\^\":\"смеяться\",\n",
        "    u\"\\(\\・\\・?\":\"смущение\",\n",
        "    u\">\\^_\\^<\":\"смех\",\n",
        "    u\"<\\^!\\^>\":\"смех\",\n",
        "    u\"\\^/\\^\":\"смех\",\n",
        "    u\"\\（\\*\\^_\\^\\*）\" :\"смех\",\n",
        "    u\"\\(\\^<\\^\\) \\(\\^\\.\\^\\)\":\"смех\",\n",
        "    u\"\\(^\\^\\)\":\"смех\",\n",
        "    u\"\\(\\^\\.\\^\\)\":\"смех\",\n",
        "    u\"\\(\\^_\\^\\.\\)\":\"смех\",\n",
        "    u\"\\(\\^_\\^\\)\":\"смех\",\n",
        "    u\"\\(\\^\\^\\)\":\"смех\",\n",
        "    u\"\\(\\^J\\^\\)\":\"смех\",\n",
        "    u\"\\(\\*\\^\\.\\^\\*\\)\":\"смех\",\n",
        "    u\"\\(\\^—\\^\\）\":\"смех\",\n",
        "    u\"\\(#\\^\\.\\^#\\)\":\"смех\",\n",
        "    u\"\\（\\^—\\^\\）\":\"махать\",\n",
        "    u\"\\(;_;\\)/~~~\":\"махать\",\n",
        "    u\"\\(\\^\\.\\^\\)/~~~\":\"махать\",\n",
        "    u\"\\(-_-\\)/~~~ \\($\\·\\·\\)/~~~\":\"махать\",\n",
        "    u\"\\(T_T\\)/~~~\":\"махать\",\n",
        "    u\"\\(ToT\\)/~~~\":\"махать\",\n",
        "    u\"\\(\\*\\^0\\^\\*\\)\":\"удивиться\",\n",
        "    u\"\\(\\*_\\*\\)\":\"удивиться\",\n",
        "    u\"\\(\\*_\\*;\":\"удивиться\",\n",
        "    u\"\\(\\+_\\+\\) \\(@_@\\)\":\"удивиться\",\n",
        "    u\"\\(\\*\\^\\^\\)v\":\"улыбаться\",\n",
        "    u\"\\(\\^_\\^\\)v\":\"улыбаться\",\n",
        "    u\"\\(\\(d[-_-]b\\)\\)\":\"слушать музыку\",\n",
        "    u'\\(-\"-\\)':\"волноваться\",\n",
        "    u\"\\(ーー;\\)\":\"волноваться\",\n",
        "    u\"\\(\\^0_0\\^\\)\":\"удивлен или смущен\",\n",
        "    u\"\\(\\＾ｖ\\＾\\)\":\"счастье\",\n",
        "    u\"\\(\\＾ｕ\\＾\\)\":\"счастье\",\n",
        "    u\"\\(\\^\\)o\\(\\^\\)\":\"счастье\",\n",
        "    u\"\\(\\^O\\^\\)\":\"счастье\",\n",
        "    u\"\\(\\^o\\^\\)\":\"счастье\",\n",
        "    u\"\\)\\^o\\^\\(\":\"счастье\",\n",
        "    u\"o_O\":\"удивление\",\n",
        "    u\":O\":\"удивление\",\n",
        "    u\"о_О\":\"удивление\",\n",
        "    u\":О\":\"удивление\",\n",
        "    u\"o_0\":\"удивление\",\n",
        "    u\"о_0\":\"удивление\",\n",
        "    u\"o\\.O\":\"удивление\",\n",
        "    u\"\\(o\\.o\\)\":\"удивление\",\n",
        "    u\"oO\":\"удивление\",\n",
        "    u\"оО\":\"удивление\",\n",
        "    u\"\\(\\*￣m￣\\)\":\"недовольный\",\n",
        "    u\"\\(‘A`\\)\":\"сдаться\"\n",
        "}\n",
        "\n",
        "\n",
        "def convert_emoticons(text):\n",
        "    for emot in EMOTICONS.keys():\n",
        "        text = re.sub(emot, ' ' + EMOTICONS[emot] + ' ', text)\n",
        "    return text\n",
        "\n",
        "X_train['Text'] = [convert_emoticons(i) for i in X_train['Text']]\n",
        "X_dev['Text'] = [convert_emoticons(i) for i in X_dev['Text']]\n",
        "X_test['Text'] = [convert_emoticons(i) for i in X_test['Text']]"
      ]
    },
    {
      "cell_type": "code",
      "execution_count": 16,
      "metadata": {
        "id": "l4K_jhNoQItn"
      },
      "outputs": [],
      "source": [
        "def remove_emojis(data):\n",
        "    emoj = re.compile(\"[\"\n",
        "        u\"\\U0001F600-\\U0001F64F\"  # emoticons\n",
        "        u\"\\U0001F300-\\U0001F5FF\"  # symbols & pictographs\n",
        "        u\"\\U0001F680-\\U0001F6FF\"  # transport & map symbols\n",
        "        u\"\\U0001F1E0-\\U0001F1FF\"  # flags (iOS)\n",
        "        u\"\\U00002500-\\U00002BEF\"  # chinese char\n",
        "        u\"\\U00002702-\\U000027B0\"\n",
        "        u\"\\U00002702-\\U000027B0\"\n",
        "        u\"\\U000024C2-\\U0001F251\"\n",
        "        u\"\\U0001f926-\\U0001f937\"\n",
        "        u\"\\U00010000-\\U0010ffff\"\n",
        "        u\"\\u2640-\\u2642\" \n",
        "        u\"\\u2600-\\u2B55\"\n",
        "        u\"\\u200d\"\n",
        "        u\"\\u23cf\"\n",
        "        u\"\\u23e9\"\n",
        "        u\"\\u231a\"\n",
        "        u\"\\ufe0f\"  # dingbats\n",
        "        u\"\\u3030\"\n",
        "                      \"]+\", re.UNICODE)\n",
        "    return re.sub(emoj, '', data)\n",
        "\n",
        "X_train['Text'] = [remove_emojis(i) for i in X_train['Text']]\n",
        "X_dev['Text'] = [remove_emojis(i) for i in X_dev['Text']]\n",
        "X_test['Text'] = [remove_emojis(i) for i in X_test['Text']]"
      ]
    },
    {
      "cell_type": "code",
      "execution_count": 17,
      "metadata": {
        "id": "Srtl5LSuQUSc"
      },
      "outputs": [],
      "source": [
        "stop = 'и, в, во, не, что, он, на, я, с, со, как, а, то, все, она, так, его, но, да, ты, к, у, же, вы, за, бы, по, только, ее, мне, было, вот, от, меня, еще, нет, о, из, ему, теперь, когда, даже, ну, вдруг, ли, если, уже, или, ни, быть, был, него, до, вас, нибудь, опять, уж, вам, ведь, там, потом, себя, ничего, ей, может, они, тут, где, есть, надо, ней, для, мы, тебя, их, чем, была, сам, чтоб, без, будто, чего, раз, тоже, себе, под, будет, ж, тогда, кто, этот, того, потому, этого, какой, совсем, ним, здесь, этом, один, почти, мой, тем, чтобы, нее, сейчас, были, куда, зачем, всех, при, наконец, два, об, другой, хоть, после, над, больше, тот, через, эти, нас, про, всего, них, какая, много, разве, три, эту, моя, свою, этой, перед, чуть, том, нельзя, такой, им, всегда, всю, между'\n",
        "stop = set(stop.replace(',', '').split())"
      ]
    },
    {
      "cell_type": "code",
      "execution_count": 18,
      "metadata": {
        "id": "H9_vQ3hFQ4Tf"
      },
      "outputs": [],
      "source": [
        "def remove_stopwords(text):\n",
        "    \"\"\"custom function to remove the stopwords\"\"\"\n",
        "    return \" \".join([word for word in str(text).split() if word not in stop])\n",
        "\n",
        "X_train['Text'] = [remove_stopwords(i) for i in X_train['Text']]\n",
        "X_dev['Text'] = [remove_stopwords(i) for i in X_dev['Text']]\n",
        "X_test['Text'] = [remove_stopwords(i) for i in X_test['Text']]"
      ]
    },
    {
      "cell_type": "markdown",
      "metadata": {
        "id": "739LLaqmYCob"
      },
      "source": [
        "<a id='section04'></a>\n",
        "### Подготовка dataloader"
      ]
    },
    {
      "cell_type": "code",
      "execution_count": null,
      "metadata": {
        "colab": {
          "base_uri": "https://localhost:8080/"
        },
        "execution": {
          "iopub.execute_input": "2023-05-31T11:32:02.444871Z",
          "iopub.status.busy": "2023-05-31T11:32:02.442498Z",
          "iopub.status.idle": "2023-05-31T11:32:04.054412Z",
          "shell.execute_reply": "2023-05-31T11:32:04.053455Z",
          "shell.execute_reply.started": "2023-05-31T11:32:02.444839Z"
        },
        "id": "ikfbFlNHgi8T",
        "outputId": "6aade6d4-2825-4ea7-a8ce-4287c4ce51bb",
        "trusted": true
      },
      "outputs": [],
      "source": [
        "tokenizer = BertTokenizer.from_pretrained('bert-base-multilingual-cased')\n",
        "\n",
        "parameters = {\n",
        "    'batch_size': 32,\n",
        "    'lr': 2e-5,\n",
        "    'epochs': 10,\n",
        "    'max_len': 256,\n",
        "}\n",
        "\n",
        "log_parameters(experiment, parameters)"
      ]
    },
    {
      "cell_type": "code",
      "execution_count": 20,
      "metadata": {
        "colab": {
          "base_uri": "https://localhost:8080/"
        },
        "execution": {
          "iopub.execute_input": "2023-05-31T11:32:56.255524Z",
          "iopub.status.busy": "2023-05-31T11:32:56.255072Z",
          "iopub.status.idle": "2023-05-31T11:32:56.269631Z",
          "shell.execute_reply": "2023-05-31T11:32:56.268548Z",
          "shell.execute_reply.started": "2023-05-31T11:32:56.255488Z"
        },
        "id": "PkDGqarcPowL",
        "outputId": "cedda3cb-cde4-4d53-a84f-9a8f49516553",
        "trusted": true
      },
      "outputs": [
        {
          "name": "stdout",
          "output_type": "stream",
          "text": [
            "TRAIN Dataset: (10254, 2)\n",
            "DEV Dataset: (2564, 2)\n",
            "TEST Dataset: (3205, 2)\n"
          ]
        }
      ],
      "source": [
        "print(\"TRAIN Dataset: {}\".format(X_train.shape))\n",
        "print(\"DEV Dataset: {}\".format(X_dev.shape))\n",
        "print(\"TEST Dataset: {}\".format(X_test.shape))\n",
        "\n",
        "training_set = CustomDataset(X_train, tokenizer, parameters['max_len'])\n",
        "dev_set = CustomDataset(X_dev, tokenizer, parameters['max_len'])\n",
        "testing_set = CustomDataset(X_test, tokenizer, parameters['max_len'])"
      ]
    },
    {
      "cell_type": "code",
      "execution_count": 21,
      "metadata": {
        "execution": {
          "iopub.execute_input": "2023-05-31T11:33:10.904582Z",
          "iopub.status.busy": "2023-05-31T11:33:10.904223Z",
          "iopub.status.idle": "2023-05-31T11:33:10.911045Z",
          "shell.execute_reply": "2023-05-31T11:33:10.909937Z",
          "shell.execute_reply.started": "2023-05-31T11:33:10.904552Z"
        },
        "id": "vLpilV73QrXJ",
        "trusted": true
      },
      "outputs": [],
      "source": [
        "train_params = {'batch_size': parameters['batch_size'],\n",
        "                'shuffle': True,\n",
        "                'num_workers': 0\n",
        "                }\n",
        "\n",
        "test_params = {'batch_size': parameters['batch_size'],\n",
        "                'shuffle': False,\n",
        "                'num_workers': 0\n",
        "                }\n",
        "\n",
        "training_loader = DataLoader(training_set, **train_params)\n",
        "dev_loader = DataLoader(dev_set, **test_params)\n",
        "testing_loader = DataLoader(testing_set, **test_params)"
      ]
    },
    {
      "cell_type": "markdown",
      "metadata": {
        "id": "Wp2maTVhYCod"
      },
      "source": [
        "<a id='section05'></a>\n",
        "### Fine Tuning"
      ]
    },
    {
      "cell_type": "code",
      "execution_count": null,
      "metadata": {
        "colab": {
          "base_uri": "https://localhost:8080/",
          "height": 120,
          "referenced_widgets": [
            "b71355af0c454a1c90b685ebbbf4b954",
            "d3b4c11ad5474b1fb53b149b78fa4c1a",
            "77e8be55dac648698b63f74eb68ac83a",
            "82e6855a28804ac88a884a30b4cce593",
            "aefb7f7e15464bcabef2e97f2b82cacf",
            "ae5f5177f4dc465385aa888c7c0bf8a4",
            "bd42c800a07f4814ad02d44e59cd24dd",
            "2db5c906a57a4399b397fa3bf90a0d03",
            "2d00743953174c4ead683289ff54a6df",
            "35f4b0a771f44ec3957c67faf0714019",
            "019bbc93ade2457fbce3d9e5658d7b95"
          ]
        },
        "execution": {
          "iopub.execute_input": "2023-05-31T11:33:14.150043Z",
          "iopub.status.busy": "2023-05-31T11:33:14.149454Z",
          "iopub.status.idle": "2023-05-31T11:33:25.590061Z",
          "shell.execute_reply": "2023-05-31T11:33:25.589041Z",
          "shell.execute_reply.started": "2023-05-31T11:33:14.150004Z"
        },
        "id": "Wo2wzJUCSMTS",
        "outputId": "57137f60-f969-4ea4-de41-0a5abc7a67bb",
        "trusted": true
      },
      "outputs": [],
      "source": [
        "bert_classifier = BertClassifier(freeze_bert=False)\n",
        "bert_classifier.to(device)\n",
        "\n",
        "experiment.set_model_graph(bert_classifier, True)\n",
        "\n",
        "optimizer = AdamW(bert_classifier.parameters(),\n",
        "                      lr=parameters['lr'],\n",
        "                      eps=1e-8 \n",
        "                      )\n",
        "\n",
        "total_steps = len(training_loader) * parameters['epochs']\n",
        "\n",
        "scheduler = get_linear_schedule_with_warmup(optimizer,\n",
        "                                                num_warmup_steps=0, # Default value\n",
        "                                                num_training_steps=total_steps)"
      ]
    },
    {
      "cell_type": "code",
      "execution_count": 23,
      "metadata": {
        "execution": {
          "iopub.execute_input": "2023-05-31T11:34:09.171721Z",
          "iopub.status.busy": "2023-05-31T11:34:09.171318Z",
          "iopub.status.idle": "2023-05-31T11:34:09.223313Z",
          "shell.execute_reply": "2023-05-31T11:34:09.222479Z",
          "shell.execute_reply.started": "2023-05-31T11:34:09.171684Z"
        },
        "id": "ftBcW5pfSMTT",
        "trusted": true
      },
      "outputs": [],
      "source": [
        "import time\n",
        "from copy import deepcopy \n",
        "\n",
        "loss_fn = nn.CrossEntropyLoss()\n",
        "global_balanced_acc = 0\n",
        "best_model_params = deepcopy(bert_classifier.state_dict())\n",
        "\n",
        "step = 0\n",
        "\n",
        "def train(model, train_dataloader, val_dataloader=None, epochs=4, evaluation=False):\n",
        "    \"\"\"Train the BertClassifier model.\n",
        "    \"\"\"\n",
        "    # Start training loop\n",
        "    print(\"Start training...\\n\")\n",
        "    for epoch_i in range(epochs):\n",
        "        # =======================================\n",
        "        #               Training\n",
        "        # =======================================\n",
        "        # Print the header of the result table\n",
        "        print(f\"{'Epoch':^7} | {'Batch':^7} | {'Train Loss':^12} | {'Val Loss':^10} | {'Val Acc':^9} | {'Elapsed':^9}\")\n",
        "        print(\"-\"*70)\n",
        "\n",
        "        # Measure the elapsed time of each epoch\n",
        "        t0_epoch, t0_batch = time.time(), time.time()\n",
        "\n",
        "        # Reset tracking variables at the beginning of each epoch\n",
        "        total_loss, batch_loss, batch_counts = 0, 0, 0\n",
        "\n",
        "        # Put the model into the training mode\n",
        "        model.train()\n",
        "\n",
        "        # For each batch of training data...\n",
        "        for step, data in enumerate(train_dataloader):\n",
        "            batch_counts +=1\n",
        "            # Load batch to GPU\n",
        "            ids = data['ids'].to(device, dtype = torch.long)\n",
        "            mask = data['mask'].to(device, dtype = torch.long)\n",
        "            token_type_ids = data['token_type_ids'].to(device, dtype = torch.long)\n",
        "            b_labels = data['targets'].to(device, dtype = torch.long)\n",
        "        \n",
        "            # Zero out any previously calculated gradients\n",
        "            model.zero_grad()\n",
        "\n",
        "            # Perform a forward pass. This will return logits.\n",
        "            logits = model(ids, mask, token_type_ids)\n",
        "\n",
        "            # Compute loss and accumulate the loss values\n",
        "            loss = loss_fn(logits, b_labels)\n",
        "            batch_loss += loss.item()\n",
        "            total_loss += loss.item()\n",
        "\n",
        "            # Perform a backward pass to calculate gradients\n",
        "            loss.backward()\n",
        "\n",
        "            # Clip the norm of the gradients to 1.0 to prevent \"exploding gradients\"\n",
        "            torch.nn.utils.clip_grad_norm_(model.parameters(), 1.0)\n",
        "\n",
        "            # Update parameters and the learning rate\n",
        "            optimizer.step()\n",
        "            scheduler.step()\n",
        "\n",
        "            # Print the loss values and time elapsed for every 20 batches\n",
        "            if (step % 100 == 0 and step != 0) or (step == len(train_dataloader) - 1):\n",
        "                # Calculate time elapsed for 20 batches\n",
        "                time_elapsed = time.time() - t0_batch\n",
        "\n",
        "                # Print training results\n",
        "                print(f\"{epoch_i + 1:^7} | {step:^7} | {batch_loss / batch_counts:^12.6f} | {'-':^10} | {'-':^9} | {time_elapsed:^9.2f}\")\n",
        "                \n",
        "                experiment.log_metric('loss_train_steps', batch_loss / batch_counts)\n",
        "                # Reset batch tracking variables\n",
        "                batch_loss, batch_counts = 0, 0\n",
        "                t0_batch = time.time()\n",
        "\n",
        "        # Calculate the average loss over the entire training data\n",
        "        avg_train_loss = total_loss / len(train_dataloader)\n",
        "        experiment.log_metric('loss_train', avg_train_loss)\n",
        "\n",
        "        print(\"-\"*70)\n",
        "        # =======================================\n",
        "        #               Evaluation\n",
        "        # =======================================\n",
        "        if evaluation == True:\n",
        "            # After the completion of each training epoch, measure the model's performance\n",
        "            # on our validation set.\n",
        "            val_loss, val_accuracy = evaluate(model, val_dataloader)\n",
        "\n",
        "            # Print performance over the entire training data\n",
        "            time_elapsed = time.time() - t0_epoch\n",
        "            \n",
        "            print(f\"{epoch_i + 1:^7} | {'-':^7} | {avg_train_loss:^12.6f} | {val_loss:^10.6f} | {val_accuracy:^9.2f} | {time_elapsed:^9.2f}\")\n",
        "            print(\"-\"*70)\n",
        "        print(\"\\n\")\n",
        "    \n",
        "    print(\"Training complete!\")\n",
        "\n",
        "\n",
        "def evaluate(model, val_dataloader):\n",
        "    \n",
        "    global global_balanced_acc, step\n",
        "\n",
        "    model.eval()\n",
        "\n",
        "    val_accuracy = []\n",
        "    val_loss = []\n",
        "    \n",
        "    all_preds = []\n",
        "    all_labels = []\n",
        "\n",
        "    for data in val_dataloader:\n",
        "        ids = data['ids'].to(device, dtype = torch.long)\n",
        "        mask = data['mask'].to(device, dtype = torch.long)\n",
        "        token_type_ids = data['token_type_ids'].to(device, dtype = torch.long)\n",
        "        b_labels = data['targets'].to(device, dtype = torch.long)\n",
        "        \n",
        "        with torch.no_grad():\n",
        "            logits = model(ids, mask, token_type_ids)\n",
        "\n",
        "        loss = loss_fn(logits, b_labels)\n",
        "        val_loss.append(loss.item())\n",
        "\n",
        "        preds = torch.argmax(logits, dim=1).flatten()\n",
        "        \n",
        "        all_preds += preds.tolist()\n",
        "        all_labels += b_labels.tolist()\n",
        "\n",
        "        accuracy = (preds == b_labels).cpu().numpy().mean() * 100\n",
        "        val_accuracy.append(accuracy)\n",
        "\n",
        "    val_loss = np.mean(val_loss)\n",
        "    val_accuracy = np.mean(val_accuracy)\n",
        "    experiment.log_metric('loss_val', val_loss)\n",
        "    \n",
        "    b_accuracy = balanced_accuracy_score(all_labels, all_preds)\n",
        "    print('Balanced_accuracy know: ', b_accuracy)\n",
        "    experiment.log_metric('loss_b_accuracy', b_accuracy)\n",
        "    \n",
        "    if b_accuracy > global_balanced_acc:\n",
        "        global_balanced_acc = b_accuracy\n",
        "        best_model_params = deepcopy(model.state_dict())\n",
        "        \n",
        "        output_model_file = f'second_bert_sentiment_{round(b_accuracy, 5)}_{step}.bin'\n",
        "\n",
        "        model_to_save = model\n",
        "        torch.save(model_to_save, output_model_file)\n",
        "\n",
        "    return val_loss, val_accuracy"
      ]
    },
    {
      "cell_type": "code",
      "execution_count": 24,
      "metadata": {
        "colab": {
          "base_uri": "https://localhost:8080/"
        },
        "execution": {
          "iopub.execute_input": "2023-05-31T11:34:12.484297Z",
          "iopub.status.busy": "2023-05-31T11:34:12.483925Z",
          "iopub.status.idle": "2023-05-31T11:48:22.286950Z",
          "shell.execute_reply": "2023-05-31T11:48:22.285821Z",
          "shell.execute_reply.started": "2023-05-31T11:34:12.484266Z"
        },
        "id": "7e4bQd2OSMTT",
        "outputId": "7a88516e-7126-4a51-d6f2-44a29322f64b",
        "trusted": true
      },
      "outputs": [
        {
          "name": "stderr",
          "output_type": "stream",
          "text": [
            "Truncation was not explicitly activated but `max_length` is provided a specific value, please use `truncation=True` to explicitly truncate examples to max length. Defaulting to 'longest_first' truncation strategy. If you encode pairs of sequences (GLUE-style) with the tokenizer you can select this strategy more precisely by providing a specific strategy to `truncation`.\n"
          ]
        },
        {
          "name": "stdout",
          "output_type": "stream",
          "text": [
            "Start training...\n",
            "\n",
            " Epoch  |  Batch  |  Train Loss  |  Val Loss  |  Val Acc  |  Elapsed \n",
            "----------------------------------------------------------------------\n",
            "   1    |   100   |   1.017244   |     -      |     -     |  135.04  \n",
            "   1    |   200   |   0.780503   |     -      |     -     |  133.60  \n",
            "   1    |   300   |   0.676423   |     -      |     -     |  133.97  \n",
            "   1    |   320   |   0.658584   |     -      |     -     |   26.08  \n",
            "----------------------------------------------------------------------\n",
            "Balanced_accuracy know:  0.7539390370279068\n",
            "   1    |    -    |   0.814971   |  0.620689  |   75.12   |  476.14  \n",
            "----------------------------------------------------------------------\n",
            "\n",
            "\n",
            " Epoch  |  Batch  |  Train Loss  |  Val Loss  |  Val Acc  |  Elapsed \n",
            "----------------------------------------------------------------------\n",
            "   2    |   100   |   0.576419   |     -      |     -     |  135.32  \n",
            "   2    |   200   |   0.549696   |     -      |     -     |  133.52  \n",
            "   2    |   300   |   0.560749   |     -      |     -     |  133.67  \n",
            "   2    |   320   |   0.586352   |     -      |     -     |   25.97  \n",
            "----------------------------------------------------------------------\n",
            "Balanced_accuracy know:  0.7597568602745479\n",
            "   2    |    -    |   0.563831   |  0.611198  |   75.96   |  474.63  \n",
            "----------------------------------------------------------------------\n",
            "\n",
            "\n",
            " Epoch  |  Batch  |  Train Loss  |  Val Loss  |  Val Acc  |  Elapsed \n",
            "----------------------------------------------------------------------\n",
            "   3    |   100   |   0.450162   |     -      |     -     |  135.21  \n",
            "   3    |   200   |   0.436233   |     -      |     -     |  133.69  \n",
            "   3    |   300   |   0.459583   |     -      |     -     |  133.85  \n",
            "   3    |   320   |   0.454490   |     -      |     -     |   26.07  \n",
            "----------------------------------------------------------------------\n",
            "Balanced_accuracy know:  0.7749779731660663\n",
            "   3    |    -    |   0.449027   |  0.599649  |   77.47   |  475.52  \n",
            "----------------------------------------------------------------------\n",
            "\n",
            "\n",
            " Epoch  |  Batch  |  Train Loss  |  Val Loss  |  Val Acc  |  Elapsed \n",
            "----------------------------------------------------------------------\n",
            "   4    |   100   |   0.353313   |     -      |     -     |  135.21  \n",
            "   4    |   200   |   0.341977   |     -      |     -     |  133.78  \n",
            "   4    |   300   |   0.352045   |     -      |     -     |  133.60  \n",
            "   4    |   320   |   0.297113   |     -      |     -     |   26.03  \n",
            "----------------------------------------------------------------------\n",
            "Balanced_accuracy know:  0.7710560554391442\n",
            "   4    |    -    |   0.345885   |  0.655888  |   77.08   |  468.88  \n",
            "----------------------------------------------------------------------\n",
            "\n",
            "\n",
            " Epoch  |  Batch  |  Train Loss  |  Val Loss  |  Val Acc  |  Elapsed \n",
            "----------------------------------------------------------------------\n",
            "   5    |   100   |   0.257613   |     -      |     -     |  134.95  \n",
            "   5    |   200   |   0.264738   |     -      |     -     |  133.73  \n",
            "   5    |   300   |   0.282914   |     -      |     -     |  133.52  \n",
            "   5    |   320   |   0.306963   |     -      |     -     |   26.03  \n",
            "----------------------------------------------------------------------\n",
            "Balanced_accuracy know:  0.7679334949395348\n",
            "   5    |    -    |   0.270789   |  0.664783  |   77.04   |  468.52  \n",
            "----------------------------------------------------------------------\n",
            "\n",
            "\n",
            " Epoch  |  Batch  |  Train Loss  |  Val Loss  |  Val Acc  |  Elapsed \n",
            "----------------------------------------------------------------------\n",
            "   6    |   100   |   0.216456   |     -      |     -     |  135.30  \n",
            "   6    |   200   |   0.219670   |     -      |     -     |  133.62  \n",
            "   6    |   300   |   0.209857   |     -      |     -     |  133.63  \n",
            "   6    |   320   |   0.192001   |     -      |     -     |   26.01  \n",
            "----------------------------------------------------------------------\n",
            "Balanced_accuracy know:  0.7722233635089545\n",
            "   6    |    -    |   0.213878   |  0.807350  |   77.20   |  468.90  \n",
            "----------------------------------------------------------------------\n",
            "\n",
            "\n",
            " Epoch  |  Batch  |  Train Loss  |  Val Loss  |  Val Acc  |  Elapsed \n",
            "----------------------------------------------------------------------\n",
            "   7    |   100   |   0.171406   |     -      |     -     |  135.18  \n",
            "   7    |   200   |   0.160664   |     -      |     -     |  133.76  \n",
            "   7    |   300   |   0.177479   |     -      |     -     |  133.56  \n",
            "   7    |   320   |   0.141106   |     -      |     -     |   26.00  \n",
            "----------------------------------------------------------------------\n",
            "Balanced_accuracy know:  0.7647954129403655\n",
            "   7    |    -    |   0.168064   |  0.889553  |   76.47   |  468.73  \n",
            "----------------------------------------------------------------------\n",
            "\n",
            "\n",
            " Epoch  |  Batch  |  Train Loss  |  Val Loss  |  Val Acc  |  Elapsed \n",
            "----------------------------------------------------------------------\n",
            "   8    |   100   |   0.129449   |     -      |     -     |  135.20  \n",
            "   8    |   200   |   0.139387   |     -      |     -     |  133.43  \n",
            "   8    |   300   |   0.150880   |     -      |     -     |  133.61  \n",
            "   8    |   320   |   0.123859   |     -      |     -     |   26.01  \n",
            "----------------------------------------------------------------------\n",
            "Balanced_accuracy know:  0.7667424481056923\n",
            "   8    |    -    |   0.138873   |  0.991937  |   76.66   |  468.55  \n",
            "----------------------------------------------------------------------\n",
            "\n",
            "\n",
            " Epoch  |  Batch  |  Train Loss  |  Val Loss  |  Val Acc  |  Elapsed \n",
            "----------------------------------------------------------------------\n",
            "   9    |   100   |   0.141680   |     -      |     -     |  135.00  \n",
            "   9    |   200   |   0.115967   |     -      |     -     |  133.59  \n",
            "   9    |   300   |   0.107871   |     -      |     -     |  133.84  \n",
            "   9    |   320   |   0.106415   |     -      |     -     |   25.99  \n",
            "----------------------------------------------------------------------\n",
            "Balanced_accuracy know:  0.7694806232338589\n",
            "   9    |    -    |   0.120940   |  1.050848  |   76.93   |  468.67  \n",
            "----------------------------------------------------------------------\n",
            "\n",
            "\n",
            " Epoch  |  Batch  |  Train Loss  |  Val Loss  |  Val Acc  |  Elapsed \n",
            "----------------------------------------------------------------------\n",
            "  10    |   100   |   0.093875   |     -      |     -     |  135.47  \n",
            "  10    |   200   |   0.113494   |     -      |     -     |  133.72  \n",
            "  10    |   300   |   0.096479   |     -      |     -     |  133.55  \n",
            "  10    |   320   |   0.121291   |     -      |     -     |   26.07  \n",
            "----------------------------------------------------------------------\n",
            "Balanced_accuracy know:  0.7706456487302044\n",
            "  10    |    -    |   0.102506   |  1.061394  |   77.04   |  469.27  \n",
            "----------------------------------------------------------------------\n",
            "\n",
            "\n",
            "Training complete!\n"
          ]
        }
      ],
      "source": [
        "train(bert_classifier, training_loader, dev_loader, epochs=parameters['epochs'], evaluation=True)"
      ]
    },
    {
      "cell_type": "markdown",
      "metadata": {
        "id": "YyeL4UAQcvX8"
      },
      "source": [
        "<a id='section06'></a>\n",
        "### Результаты"
      ]
    },
    {
      "cell_type": "code",
      "execution_count": 25,
      "metadata": {
        "execution": {
          "iopub.execute_input": "2023-05-31T11:50:18.971604Z",
          "iopub.status.busy": "2023-05-31T11:50:18.970389Z",
          "iopub.status.idle": "2023-05-31T11:50:18.980685Z",
          "shell.execute_reply": "2023-05-31T11:50:18.979496Z",
          "shell.execute_reply.started": "2023-05-31T11:50:18.971569Z"
        },
        "id": "kDxazdTKSMTU",
        "trusted": true
      },
      "outputs": [],
      "source": [
        "def get_predicts(model, loader, _type_):\n",
        "    \n",
        "    model.eval()\n",
        "    n_correct = 0; n_wrong = 0; total = 0; tr_loss=0; nb_tr_steps=0; nb_tr_examples=0\n",
        "    all_preds, all_labels = [], []\n",
        "    \n",
        "    \n",
        "    with torch.no_grad():\n",
        "        for _, data in (enumerate(loader, 0)):\n",
        "            ids = data['ids'].to(device, dtype = torch.long)\n",
        "            mask = data['mask'].to(device, dtype = torch.long)\n",
        "            token_type_ids = data['token_type_ids'].to(device, dtype = torch.long)\n",
        "            b_labels = data['targets'].to(device, dtype = torch.long)\n",
        "\n",
        "            logits = model(ids, mask, token_type_ids)\n",
        "            preds = torch.argmax(logits, dim=1).flatten()\n",
        "\n",
        "            all_preds += preds.tolist()\n",
        "            all_labels += b_labels.tolist()\n",
        "\n",
        "    \n",
        "    return all_preds, all_labels\n"
      ]
    },
    {
      "cell_type": "code",
      "execution_count": 26,
      "metadata": {
        "execution": {
          "iopub.execute_input": "2023-05-31T11:50:52.793221Z",
          "iopub.status.busy": "2023-05-31T11:50:52.792547Z",
          "iopub.status.idle": "2023-05-31T11:50:53.338411Z",
          "shell.execute_reply": "2023-05-31T11:50:53.337416Z",
          "shell.execute_reply.started": "2023-05-31T11:50:52.793179Z"
        },
        "id": "vC1PhzjYSMTU",
        "trusted": true
      },
      "outputs": [],
      "source": [
        "model = torch.load('/content/second_bert_sentiment_0.77498_0.bin')\n",
        "\n",
        "model.eval()\n",
        "None"
      ]
    },
    {
      "cell_type": "code",
      "execution_count": 27,
      "metadata": {
        "execution": {
          "iopub.execute_input": "2023-05-31T11:51:24.783401Z",
          "iopub.status.busy": "2023-05-31T11:51:24.783031Z",
          "iopub.status.idle": "2023-05-31T11:54:31.375627Z",
          "shell.execute_reply": "2023-05-31T11:54:31.374661Z",
          "shell.execute_reply.started": "2023-05-31T11:51:24.783372Z"
        },
        "id": "v-BGdz4TSMTV",
        "trusted": true
      },
      "outputs": [],
      "source": [
        "y_pred_test, y_test = get_predicts(model, testing_loader, 'Test')\n",
        "y_pred_train, y_train = get_predicts(model, training_loader, 'Train')\n",
        "y_pred_val, y_val = get_predicts(model, dev_loader, 'Validation')"
      ]
    },
    {
      "cell_type": "code",
      "execution_count": 28,
      "metadata": {
        "colab": {
          "base_uri": "https://localhost:8080/",
          "height": 1000
        },
        "execution": {
          "iopub.execute_input": "2023-05-31T11:54:31.378069Z",
          "iopub.status.busy": "2023-05-31T11:54:31.377639Z",
          "iopub.status.idle": "2023-05-31T11:54:32.538518Z",
          "shell.execute_reply": "2023-05-31T11:54:32.537519Z",
          "shell.execute_reply.started": "2023-05-31T11:54:31.378035Z"
        },
        "id": "RzEKksMdSMTV",
        "outputId": "b054aea3-9d26-4015-8691-fee6bc78e241",
        "trusted": true
      },
      "outputs": [
        {
          "data": {
            "image/png": "[encoded data removed]",
            "text/plain": [
              "<Figure size 500x500 with 2 Axes>"
            ]
          },
          "metadata": {},
          "output_type": "display_data"
        },
        {
          "data": {
            "image/png": "[encoded data removed]",
            "text/plain": [
              "<Figure size 500x500 with 2 Axes>"
            ]
          },
          "metadata": {},
          "output_type": "display_data"
        },
        {
          "data": {
            "image/png": "[encoded data removed]",
            "text/plain": [
              "<Figure size 500x500 with 2 Axes>"
            ]
          },
          "metadata": {},
          "output_type": "display_data"
        }
      ],
      "source": [
        "cm_plot(y_train, y_pred_train, 'train')\n",
        "cm_plot(y_val, y_pred_val, 'val')\n",
        "cm_plot(y_test, y_pred_test, 'test')"
      ]
    },
    {
      "cell_type": "code",
      "execution_count": 29,
      "metadata": {
        "colab": {
          "base_uri": "https://localhost:8080/",
          "height": 204
        },
        "execution": {
          "iopub.execute_input": "2023-05-31T11:54:32.540365Z",
          "iopub.status.busy": "2023-05-31T11:54:32.539981Z",
          "iopub.status.idle": "2023-05-31T11:54:32.607489Z",
          "shell.execute_reply": "2023-05-31T11:54:32.606638Z",
          "shell.execute_reply.started": "2023-05-31T11:54:32.540332Z"
        },
        "id": "AAbnt3_wSMTW",
        "outputId": "e6562a56-55f5-429b-d852-1f8a56530765",
        "trusted": true
      },
      "outputs": [
        {
          "data": {
            "text/html": [
              "\n",
              "  <div id=\"df-c525bd9e-d467-4e88-a3af-cf707b596f2e\">\n",
              "    <div class=\"colab-df-container\">\n",
              "      <div>\n",
              "<style scoped>\n",
              "    .dataframe tbody tr th:only-of-type {\n",
              "        vertical-align: middle;\n",
              "    }\n",
              "\n",
              "    .dataframe tbody tr th {\n",
              "        vertical-align: top;\n",
              "    }\n",
              "\n",
              "    .dataframe thead th {\n",
              "        text-align: right;\n",
              "    }\n",
              "</style>\n",
              "<table border=\"1\" class=\"dataframe\">\n",
              "  <thead>\n",
              "    <tr style=\"text-align: right;\">\n",
              "      <th></th>\n",
              "      <th>train</th>\n",
              "      <th>test</th>\n",
              "    </tr>\n",
              "  </thead>\n",
              "  <tbody>\n",
              "    <tr>\n",
              "      <th>balanced_accuracy_score</th>\n",
              "      <td>0.905403</td>\n",
              "      <td>0.758485</td>\n",
              "    </tr>\n",
              "    <tr>\n",
              "      <th>accuracy_score</th>\n",
              "      <td>0.905403</td>\n",
              "      <td>0.758502</td>\n",
              "    </tr>\n",
              "    <tr>\n",
              "      <th>f1 weighted</th>\n",
              "      <td>0.905773</td>\n",
              "      <td>0.7597</td>\n",
              "    </tr>\n",
              "    <tr>\n",
              "      <th>f1 micro</th>\n",
              "      <td>0.905403</td>\n",
              "      <td>0.758502</td>\n",
              "    </tr>\n",
              "    <tr>\n",
              "      <th>f1 macro</th>\n",
              "      <td>0.905773</td>\n",
              "      <td>0.75971</td>\n",
              "    </tr>\n",
              "  </tbody>\n",
              "</table>\n",
              "</div>\n",
              "      <button class=\"colab-df-convert\" onclick=\"convertToInteractive('df-c525bd9e-d467-4e88-a3af-cf707b596f2e')\"\n",
              "              title=\"Convert this dataframe to an interactive table.\"\n",
              "              style=\"display:none;\">\n",
              "        \n",
              "  <svg xmlns=\"http://www.w3.org/2000/svg\" height=\"24px\"viewBox=\"0 0 24 24\"\n",
              "       width=\"24px\">\n",
              "    <path d=\"M0 0h24v24H0V0z\" fill=\"none\"/>\n",
              "    <path d=\"M18.56 5.44l.94 2.06.94-2.06 2.06-.94-2.06-.94-.94-2.06-.94 2.06-2.06.94zm-11 1L8.5 8.5l.94-2.06 2.06-.94-2.06-.94L8.5 2.5l-.94 2.06-2.06.94zm10 10l.94 2.06.94-2.06 2.06-.94-2.06-.94-.94-2.06-.94 2.06-2.06.94z\"/><path d=\"M17.41 7.96l-1.37-1.37c-.4-.4-.92-.59-1.43-.59-.52 0-1.04.2-1.43.59L10.3 9.45l-7.72 7.72c-.78.78-.78 2.05 0 2.83L4 21.41c.39.39.9.59 1.41.59.51 0 1.02-.2 1.41-.59l7.78-7.78 2.81-2.81c.8-.78.8-2.07 0-2.86zM5.41 20L4 18.59l7.72-7.72 1.47 1.35L5.41 20z\"/>\n",
              "  </svg>\n",
              "      </button>\n",
              "      \n",
              "  <style>\n",
              "    .colab-df-container {\n",
              "      display:flex;\n",
              "      flex-wrap:wrap;\n",
              "      gap: 12px;\n",
              "    }\n",
              "\n",
              "    .colab-df-convert {\n",
              "      background-color: #E8F0FE;\n",
              "      border: none;\n",
              "      border-radius: 50%;\n",
              "      cursor: pointer;\n",
              "      display: none;\n",
              "      fill: #1967D2;\n",
              "      height: 32px;\n",
              "      padding: 0 0 0 0;\n",
              "      width: 32px;\n",
              "    }\n",
              "\n",
              "    .colab-df-convert:hover {\n",
              "      background-color: #E2EBFA;\n",
              "      box-shadow: 0px 1px 2px rgba(60, 64, 67, 0.3), 0px 1px 3px 1px rgba(60, 64, 67, 0.15);\n",
              "      fill: #174EA6;\n",
              "    }\n",
              "\n",
              "    [theme=dark] .colab-df-convert {\n",
              "      background-color: #3B4455;\n",
              "      fill: #D2E3FC;\n",
              "    }\n",
              "\n",
              "    [theme=dark] .colab-df-convert:hover {\n",
              "      background-color: #434B5C;\n",
              "      box-shadow: 0px 1px 3px 1px rgba(0, 0, 0, 0.15);\n",
              "      filter: drop-shadow(0px 1px 2px rgba(0, 0, 0, 0.3));\n",
              "      fill: #FFFFFF;\n",
              "    }\n",
              "  </style>\n",
              "\n",
              "      <script>\n",
              "        const buttonEl =\n",
              "          document.querySelector('#df-c525bd9e-d467-4e88-a3af-cf707b596f2e button.colab-df-convert');\n",
              "        buttonEl.style.display =\n",
              "          google.colab.kernel.accessAllowed ? 'block' : 'none';\n",
              "\n",
              "        async function convertToInteractive(key) {\n",
              "          const element = document.querySelector('#df-c525bd9e-d467-4e88-a3af-cf707b596f2e');\n",
              "          const dataTable =\n",
              "            await google.colab.kernel.invokeFunction('convertToInteractive',\n",
              "                                                     [key], {});\n",
              "          if (!dataTable) return;\n",
              "\n",
              "          const docLinkHtml = 'Like what you see? Visit the ' +\n",
              "            '<a target=\"_blank\" href=https://colab.research.google.com/notebooks/data_table.ipynb>data table notebook</a>'\n",
              "            + ' to learn more about interactive tables.';\n",
              "          element.innerHTML = '';\n",
              "          dataTable['output_type'] = 'display_data';\n",
              "          await google.colab.output.renderOutput(dataTable, element);\n",
              "          const docLink = document.createElement('div');\n",
              "          docLink.innerHTML = docLinkHtml;\n",
              "          element.appendChild(docLink);\n",
              "        }\n",
              "      </script>\n",
              "    </div>\n",
              "  </div>\n",
              "  "
            ],
            "text/plain": [
              "                            train      test\n",
              "balanced_accuracy_score  0.905403  0.758485\n",
              "accuracy_score           0.905403  0.758502\n",
              "f1 weighted              0.905773    0.7597\n",
              "f1 micro                 0.905403  0.758502\n",
              "f1 macro                 0.905773   0.75971"
            ]
          },
          "execution_count": 29,
          "metadata": {},
          "output_type": "execute_result"
        }
      ],
      "source": [
        "statistic(y_pred_test, y_test, y_pred_train, y_train, 'train', 'test')"
      ]
    },
    {
      "cell_type": "code",
      "execution_count": 30,
      "metadata": {
        "colab": {
          "base_uri": "https://localhost:8080/",
          "height": 204
        },
        "execution": {
          "iopub.execute_input": "2023-05-31T11:54:32.610085Z",
          "iopub.status.busy": "2023-05-31T11:54:32.609742Z",
          "iopub.status.idle": "2023-05-31T11:54:32.688674Z",
          "shell.execute_reply": "2023-05-31T11:54:32.687677Z",
          "shell.execute_reply.started": "2023-05-31T11:54:32.610054Z"
        },
        "id": "9zVPtlxPSMTW",
        "outputId": "3088c58f-d563-49e4-e69d-d2afcfd05db8",
        "trusted": true
      },
      "outputs": [
        {
          "data": {
            "text/html": [
              "\n",
              "  <div id=\"df-0701c34c-d04e-4182-bee1-f478cb29245c\">\n",
              "    <div class=\"colab-df-container\">\n",
              "      <div>\n",
              "<style scoped>\n",
              "    .dataframe tbody tr th:only-of-type {\n",
              "        vertical-align: middle;\n",
              "    }\n",
              "\n",
              "    .dataframe tbody tr th {\n",
              "        vertical-align: top;\n",
              "    }\n",
              "\n",
              "    .dataframe thead th {\n",
              "        text-align: right;\n",
              "    }\n",
              "</style>\n",
              "<table border=\"1\" class=\"dataframe\">\n",
              "  <thead>\n",
              "    <tr style=\"text-align: right;\">\n",
              "      <th></th>\n",
              "      <th>dev</th>\n",
              "      <th>train</th>\n",
              "    </tr>\n",
              "  </thead>\n",
              "  <tbody>\n",
              "    <tr>\n",
              "      <th>balanced_accuracy_score</th>\n",
              "      <td>0.774978</td>\n",
              "      <td>0.905403</td>\n",
              "    </tr>\n",
              "    <tr>\n",
              "      <th>accuracy_score</th>\n",
              "      <td>0.774961</td>\n",
              "      <td>0.905403</td>\n",
              "    </tr>\n",
              "    <tr>\n",
              "      <th>f1 weighted</th>\n",
              "      <td>0.776346</td>\n",
              "      <td>0.905773</td>\n",
              "    </tr>\n",
              "    <tr>\n",
              "      <th>f1 micro</th>\n",
              "      <td>0.774961</td>\n",
              "      <td>0.905403</td>\n",
              "    </tr>\n",
              "    <tr>\n",
              "      <th>f1 macro</th>\n",
              "      <td>0.776331</td>\n",
              "      <td>0.905773</td>\n",
              "    </tr>\n",
              "  </tbody>\n",
              "</table>\n",
              "</div>\n",
              "      <button class=\"colab-df-convert\" onclick=\"convertToInteractive('df-0701c34c-d04e-4182-bee1-f478cb29245c')\"\n",
              "              title=\"Convert this dataframe to an interactive table.\"\n",
              "              style=\"display:none;\">\n",
              "        \n",
              "  <svg xmlns=\"http://www.w3.org/2000/svg\" height=\"24px\"viewBox=\"0 0 24 24\"\n",
              "       width=\"24px\">\n",
              "    <path d=\"M0 0h24v24H0V0z\" fill=\"none\"/>\n",
              "    <path d=\"M18.56 5.44l.94 2.06.94-2.06 2.06-.94-2.06-.94-.94-2.06-.94 2.06-2.06.94zm-11 1L8.5 8.5l.94-2.06 2.06-.94-2.06-.94L8.5 2.5l-.94 2.06-2.06.94zm10 10l.94 2.06.94-2.06 2.06-.94-2.06-.94-.94-2.06-.94 2.06-2.06.94z\"/><path d=\"M17.41 7.96l-1.37-1.37c-.4-.4-.92-.59-1.43-.59-.52 0-1.04.2-1.43.59L10.3 9.45l-7.72 7.72c-.78.78-.78 2.05 0 2.83L4 21.41c.39.39.9.59 1.41.59.51 0 1.02-.2 1.41-.59l7.78-7.78 2.81-2.81c.8-.78.8-2.07 0-2.86zM5.41 20L4 18.59l7.72-7.72 1.47 1.35L5.41 20z\"/>\n",
              "  </svg>\n",
              "      </button>\n",
              "      \n",
              "  <style>\n",
              "    .colab-df-container {\n",
              "      display:flex;\n",
              "      flex-wrap:wrap;\n",
              "      gap: 12px;\n",
              "    }\n",
              "\n",
              "    .colab-df-convert {\n",
              "      background-color: #E8F0FE;\n",
              "      border: none;\n",
              "      border-radius: 50%;\n",
              "      cursor: pointer;\n",
              "      display: none;\n",
              "      fill: #1967D2;\n",
              "      height: 32px;\n",
              "      padding: 0 0 0 0;\n",
              "      width: 32px;\n",
              "    }\n",
              "\n",
              "    .colab-df-convert:hover {\n",
              "      background-color: #E2EBFA;\n",
              "      box-shadow: 0px 1px 2px rgba(60, 64, 67, 0.3), 0px 1px 3px 1px rgba(60, 64, 67, 0.15);\n",
              "      fill: #174EA6;\n",
              "    }\n",
              "\n",
              "    [theme=dark] .colab-df-convert {\n",
              "      background-color: #3B4455;\n",
              "      fill: #D2E3FC;\n",
              "    }\n",
              "\n",
              "    [theme=dark] .colab-df-convert:hover {\n",
              "      background-color: #434B5C;\n",
              "      box-shadow: 0px 1px 3px 1px rgba(0, 0, 0, 0.15);\n",
              "      filter: drop-shadow(0px 1px 2px rgba(0, 0, 0, 0.3));\n",
              "      fill: #FFFFFF;\n",
              "    }\n",
              "  </style>\n",
              "\n",
              "      <script>\n",
              "        const buttonEl =\n",
              "          document.querySelector('#df-0701c34c-d04e-4182-bee1-f478cb29245c button.colab-df-convert');\n",
              "        buttonEl.style.display =\n",
              "          google.colab.kernel.accessAllowed ? 'block' : 'none';\n",
              "\n",
              "        async function convertToInteractive(key) {\n",
              "          const element = document.querySelector('#df-0701c34c-d04e-4182-bee1-f478cb29245c');\n",
              "          const dataTable =\n",
              "            await google.colab.kernel.invokeFunction('convertToInteractive',\n",
              "                                                     [key], {});\n",
              "          if (!dataTable) return;\n",
              "\n",
              "          const docLinkHtml = 'Like what you see? Visit the ' +\n",
              "            '<a target=\"_blank\" href=https://colab.research.google.com/notebooks/data_table.ipynb>data table notebook</a>'\n",
              "            + ' to learn more about interactive tables.';\n",
              "          element.innerHTML = '';\n",
              "          dataTable['output_type'] = 'display_data';\n",
              "          await google.colab.output.renderOutput(dataTable, element);\n",
              "          const docLink = document.createElement('div');\n",
              "          docLink.innerHTML = docLinkHtml;\n",
              "          element.appendChild(docLink);\n",
              "        }\n",
              "      </script>\n",
              "    </div>\n",
              "  </div>\n",
              "  "
            ],
            "text/plain": [
              "                              dev     train\n",
              "balanced_accuracy_score  0.774978  0.905403\n",
              "accuracy_score           0.774961  0.905403\n",
              "f1 weighted              0.776346  0.905773\n",
              "f1 micro                 0.774961  0.905403\n",
              "f1 macro                 0.776331  0.905773"
            ]
          },
          "execution_count": 30,
          "metadata": {},
          "output_type": "execute_result"
        }
      ],
      "source": [
        "statistic(y_pred_train, y_train, y_pred_val, y_val, 'dev', 'train')"
      ]
    },
    {
      "cell_type": "code",
      "execution_count": 31,
      "metadata": {
        "id": "ckiPNzlHxykY"
      },
      "outputs": [],
      "source": [
        "from google.colab import files\n",
        "from google.colab import drive"
      ]
    },
    {
      "cell_type": "code",
      "execution_count": 32,
      "metadata": {
        "colab": {
          "base_uri": "https://localhost:8080/"
        },
        "id": "tyneat1uyao-",
        "outputId": "1d034c52-e3c3-4f2f-8363-573f59d3e3ae"
      },
      "outputs": [
        {
          "name": "stdout",
          "output_type": "stream",
          "text": [
            "Mounted at /content/gdrive/\n"
          ]
        }
      ],
      "source": [
        "drive.mount(\"/content/gdrive/\")"
      ]
    },
    {
      "cell_type": "code",
      "execution_count": 33,
      "metadata": {
        "id": "OxQvH7mmxcH6"
      },
      "outputs": [],
      "source": [
        "!cp second_bert_sentiment_0.77498_0.bin xxx"
      ]
    }
  ],
  "metadata": {
    "accelerator": "GPU",
    "colab": {
      "gpuType": "T4",
      "provenance": []
    },
    "kernelspec": {
      "display_name": "Python 3",
      "name": "python3"
    },
    "language_info": {
      "codemirror_mode": {
        "name": "ipython",
        "version": 3
      },
      "file_extension": ".py",
      "mimetype": "text/x-python",
      "name": "python",
      "nbconvert_exporter": "python",
      "pygments_lexer": "ipython3",
      "version": "3.10.10"
    },
    "widgets": {
      "application/vnd.jupyter.widget-state+json": {
        "019bbc93ade2457fbce3d9e5658d7b95": {
          "model_module": "@jupyter-widgets/controls",
          "model_module_version": "1.5.0",
          "model_name": "DescriptionStyleModel",
          "state": {
            "_model_module": "@jupyter-widgets/controls",
            "_model_module_version": "1.5.0",
            "_model_name": "DescriptionStyleModel",
            "_view_count": null,
            "_view_module": "@jupyter-widgets/base",
            "_view_module_version": "1.2.0",
            "_view_name": "StyleView",
            "description_width": ""
          }
        },
        "2d00743953174c4ead683289ff54a6df": {
          "model_module": "@jupyter-widgets/controls",
          "model_module_version": "1.5.0",
          "model_name": "ProgressStyleModel",
          "state": {
            "_model_module": "@jupyter-widgets/controls",
            "_model_module_version": "1.5.0",
            "_model_name": "ProgressStyleModel",
            "_view_count": null,
            "_view_module": "@jupyter-widgets/base",
            "_view_module_version": "1.2.0",
            "_view_name": "StyleView",
            "bar_color": null,
            "description_width": ""
          }
        },
        "2db5c906a57a4399b397fa3bf90a0d03": {
          "model_module": "@jupyter-widgets/base",
          "model_module_version": "1.2.0",
          "model_name": "LayoutModel",
          "state": {
            "_model_module": "@jupyter-widgets/base",
            "_model_module_version": "1.2.0",
            "_model_name": "LayoutModel",
            "_view_count": null,
            "_view_module": "@jupyter-widgets/base",
            "_view_module_version": "1.2.0",
            "_view_name": "LayoutView",
            "align_content": null,
            "align_items": null,
            "align_self": null,
            "border": null,
            "bottom": null,
            "display": null,
            "flex": null,
            "flex_flow": null,
            "grid_area": null,
            "grid_auto_columns": null,
            "grid_auto_flow": null,
            "grid_auto_rows": null,
            "grid_column": null,
            "grid_gap": null,
            "grid_row": null,
            "grid_template_areas": null,
            "grid_template_columns": null,
            "grid_template_rows": null,
            "height": null,
            "justify_content": null,
            "justify_items": null,
            "left": null,
            "margin": null,
            "max_height": null,
            "max_width": null,
            "min_height": null,
            "min_width": null,
            "object_fit": null,
            "object_position": null,
            "order": null,
            "overflow": null,
            "overflow_x": null,
            "overflow_y": null,
            "padding": null,
            "right": null,
            "top": null,
            "visibility": null,
            "width": null
          }
        },
        "35f4b0a771f44ec3957c67faf0714019": {
          "model_module": "@jupyter-widgets/base",
          "model_module_version": "1.2.0",
          "model_name": "LayoutModel",
          "state": {
            "_model_module": "@jupyter-widgets/base",
            "_model_module_version": "1.2.0",
            "_model_name": "LayoutModel",
            "_view_count": null,
            "_view_module": "@jupyter-widgets/base",
            "_view_module_version": "1.2.0",
            "_view_name": "LayoutView",
            "align_content": null,
            "align_items": null,
            "align_self": null,
            "border": null,
            "bottom": null,
            "display": null,
            "flex": null,
            "flex_flow": null,
            "grid_area": null,
            "grid_auto_columns": null,
            "grid_auto_flow": null,
            "grid_auto_rows": null,
            "grid_column": null,
            "grid_gap": null,
            "grid_row": null,
            "grid_template_areas": null,
            "grid_template_columns": null,
            "grid_template_rows": null,
            "height": null,
            "justify_content": null,
            "justify_items": null,
            "left": null,
            "margin": null,
            "max_height": null,
            "max_width": null,
            "min_height": null,
            "min_width": null,
            "object_fit": null,
            "object_position": null,
            "order": null,
            "overflow": null,
            "overflow_x": null,
            "overflow_y": null,
            "padding": null,
            "right": null,
            "top": null,
            "visibility": null,
            "width": null
          }
        },
        "77e8be55dac648698b63f74eb68ac83a": {
          "model_module": "@jupyter-widgets/controls",
          "model_module_version": "1.5.0",
          "model_name": "FloatProgressModel",
          "state": {
            "_dom_classes": [],
            "_model_module": "@jupyter-widgets/controls",
            "_model_module_version": "1.5.0",
            "_model_name": "FloatProgressModel",
            "_view_count": null,
            "_view_module": "@jupyter-widgets/controls",
            "_view_module_version": "1.5.0",
            "_view_name": "ProgressView",
            "bar_style": "success",
            "description": "",
            "description_tooltip": null,
            "layout": "IPY_MODEL_2db5c906a57a4399b397fa3bf90a0d03",
            "max": 714290682,
            "min": 0,
            "orientation": "horizontal",
            "style": "IPY_MODEL_2d00743953174c4ead683289ff54a6df",
            "value": 714290682
          }
        },
        "82e6855a28804ac88a884a30b4cce593": {
          "model_module": "@jupyter-widgets/controls",
          "model_module_version": "1.5.0",
          "model_name": "HTMLModel",
          "state": {
            "_dom_classes": [],
            "_model_module": "@jupyter-widgets/controls",
            "_model_module_version": "1.5.0",
            "_model_name": "HTMLModel",
            "_view_count": null,
            "_view_module": "@jupyter-widgets/controls",
            "_view_module_version": "1.5.0",
            "_view_name": "HTMLView",
            "description": "",
            "description_tooltip": null,
            "layout": "IPY_MODEL_35f4b0a771f44ec3957c67faf0714019",
            "placeholder": "​",
            "style": "IPY_MODEL_019bbc93ade2457fbce3d9e5658d7b95",
            "value": " 714M/714M [00:02&lt;00:00, 244MB/s]"
          }
        },
        "ae5f5177f4dc465385aa888c7c0bf8a4": {
          "model_module": "@jupyter-widgets/base",
          "model_module_version": "1.2.0",
          "model_name": "LayoutModel",
          "state": {
            "_model_module": "@jupyter-widgets/base",
            "_model_module_version": "1.2.0",
            "_model_name": "LayoutModel",
            "_view_count": null,
            "_view_module": "@jupyter-widgets/base",
            "_view_module_version": "1.2.0",
            "_view_name": "LayoutView",
            "align_content": null,
            "align_items": null,
            "align_self": null,
            "border": null,
            "bottom": null,
            "display": null,
            "flex": null,
            "flex_flow": null,
            "grid_area": null,
            "grid_auto_columns": null,
            "grid_auto_flow": null,
            "grid_auto_rows": null,
            "grid_column": null,
            "grid_gap": null,
            "grid_row": null,
            "grid_template_areas": null,
            "grid_template_columns": null,
            "grid_template_rows": null,
            "height": null,
            "justify_content": null,
            "justify_items": null,
            "left": null,
            "margin": null,
            "max_height": null,
            "max_width": null,
            "min_height": null,
            "min_width": null,
            "object_fit": null,
            "object_position": null,
            "order": null,
            "overflow": null,
            "overflow_x": null,
            "overflow_y": null,
            "padding": null,
            "right": null,
            "top": null,
            "visibility": null,
            "width": null
          }
        },
        "aefb7f7e15464bcabef2e97f2b82cacf": {
          "model_module": "@jupyter-widgets/base",
          "model_module_version": "1.2.0",
          "model_name": "LayoutModel",
          "state": {
            "_model_module": "@jupyter-widgets/base",
            "_model_module_version": "1.2.0",
            "_model_name": "LayoutModel",
            "_view_count": null,
            "_view_module": "@jupyter-widgets/base",
            "_view_module_version": "1.2.0",
            "_view_name": "LayoutView",
            "align_content": null,
            "align_items": null,
            "align_self": null,
            "border": null,
            "bottom": null,
            "display": null,
            "flex": null,
            "flex_flow": null,
            "grid_area": null,
            "grid_auto_columns": null,
            "grid_auto_flow": null,
            "grid_auto_rows": null,
            "grid_column": null,
            "grid_gap": null,
            "grid_row": null,
            "grid_template_areas": null,
            "grid_template_columns": null,
            "grid_template_rows": null,
            "height": null,
            "justify_content": null,
            "justify_items": null,
            "left": null,
            "margin": null,
            "max_height": null,
            "max_width": null,
            "min_height": null,
            "min_width": null,
            "object_fit": null,
            "object_position": null,
            "order": null,
            "overflow": null,
            "overflow_x": null,
            "overflow_y": null,
            "padding": null,
            "right": null,
            "top": null,
            "visibility": null,
            "width": null
          }
        },
        "b71355af0c454a1c90b685ebbbf4b954": {
          "model_module": "@jupyter-widgets/controls",
          "model_module_version": "1.5.0",
          "model_name": "HBoxModel",
          "state": {
            "_dom_classes": [],
            "_model_module": "@jupyter-widgets/controls",
            "_model_module_version": "1.5.0",
            "_model_name": "HBoxModel",
            "_view_count": null,
            "_view_module": "@jupyter-widgets/controls",
            "_view_module_version": "1.5.0",
            "_view_name": "HBoxView",
            "box_style": "",
            "children": [
              "IPY_MODEL_d3b4c11ad5474b1fb53b149b78fa4c1a",
              "IPY_MODEL_77e8be55dac648698b63f74eb68ac83a",
              "IPY_MODEL_82e6855a28804ac88a884a30b4cce593"
            ],
            "layout": "IPY_MODEL_aefb7f7e15464bcabef2e97f2b82cacf"
          }
        },
        "bd42c800a07f4814ad02d44e59cd24dd": {
          "model_module": "@jupyter-widgets/controls",
          "model_module_version": "1.5.0",
          "model_name": "DescriptionStyleModel",
          "state": {
            "_model_module": "@jupyter-widgets/controls",
            "_model_module_version": "1.5.0",
            "_model_name": "DescriptionStyleModel",
            "_view_count": null,
            "_view_module": "@jupyter-widgets/base",
            "_view_module_version": "1.2.0",
            "_view_name": "StyleView",
            "description_width": ""
          }
        },
        "d3b4c11ad5474b1fb53b149b78fa4c1a": {
          "model_module": "@jupyter-widgets/controls",
          "model_module_version": "1.5.0",
          "model_name": "HTMLModel",
          "state": {
            "_dom_classes": [],
            "_model_module": "@jupyter-widgets/controls",
            "_model_module_version": "1.5.0",
            "_model_name": "HTMLModel",
            "_view_count": null,
            "_view_module": "@jupyter-widgets/controls",
            "_view_module_version": "1.5.0",
            "_view_name": "HTMLView",
            "description": "",
            "description_tooltip": null,
            "layout": "IPY_MODEL_ae5f5177f4dc465385aa888c7c0bf8a4",
            "placeholder": "​",
            "style": "IPY_MODEL_bd42c800a07f4814ad02d44e59cd24dd",
            "value": "Downloading model.safetensors: 100%"
          }
        }
      }
    }
  },
  "nbformat": 4,
  "nbformat_minor": 0
}
